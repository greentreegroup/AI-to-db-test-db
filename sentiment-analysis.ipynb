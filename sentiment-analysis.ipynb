{
 "cells": [
  {
   "cell_type": "markdown",
   "metadata": {},
   "source": [
    "# loading postgresql dataset"
   ]
  },
  {
   "cell_type": "markdown",
   "metadata": {},
   "source": [
    "<h3>The Goal</h3>\n",
    "<br>\n",
    "\n",
    "<b>the goal here is to assess whehter we can successfully replicate the sentiment analysis capability of a LLM, with various other NLP methods</b>\n",
    "\n",
    "<br>\n",
    "\n",
    "We are going to try following methods\n",
    "\n",
    "<ol>\n",
    "    <li>Embedding : sentiment analysis with vector embeddings</li>\n",
    "    <li>TF-IDF : sentiment analysis with traditional TF-IDF method</li>\n",
    "</ol>"
   ]
  },
  {
   "cell_type": "markdown",
   "metadata": {},
   "source": [
    "first we will fetch a small framgment (30k entries) of the dataset from the postgresql database for testing, and save them in csv file\n",
    "\n",
    "<b>While fetching the data from the database, we will need to randomize it on the database itself, so to avoid any pattern which might have appeared in the data creation process"
   ]
  },
  {
   "cell_type": "code",
   "execution_count": 1,
   "metadata": {},
   "outputs": [],
   "source": [
    "from dotenv import load_dotenv\n",
    "import os\n",
    "\n",
    "load_dotenv(\"utils/.env\",override=True)\n",
    "\n",
    "\n",
    "POSTGRESQL_DATABASE=os.getenv(\"POSTGRESQL_DATABASE\")\n",
    "POSTGRESQL_USER=os.getenv(\"POSTGRESQL_USER\")\n",
    "POSTGRESQL_PASSWORD=os.getenv(\"POSTGRESQL_PASSWORD\")\n",
    "HOST=os.getenv(\"HOST\")"
   ]
  },
  {
   "cell_type": "code",
   "execution_count": 2,
   "metadata": {},
   "outputs": [],
   "source": [
    "import psycopg2\n",
    "import pandas as pd\n",
    "\n",
    "def fetch_email_data(limit=1000, randomness=True):\n",
    "    # Define your database credentials\n",
    "    conn = psycopg2.connect(\n",
    "        dbname=POSTGRESQL_DATABASE,\n",
    "        user=POSTGRESQL_USER,\n",
    "        password=POSTGRESQL_PASSWORD,\n",
    "        host=HOST,\n",
    "        port=\"5432\"\n",
    "    )\n",
    "    \n",
    "    cur = conn.cursor()\n",
    "    \n",
    "    if randomness:\n",
    "        query = f\"\"\"\n",
    "                SELECT platform, email_id, received_at, sent_at, sent_from, sent_to, \n",
    "                    conversation_id, reply_to, subject, full_body, date_extracted\n",
    "                FROM public.email_data_fields\n",
    "                ORDER BY RANDOM()\n",
    "                LIMIT {limit}\n",
    "                \"\"\"\n",
    "    else:\n",
    "        query = f\"\"\"\n",
    "                SELECT platform, email_id, received_at, sent_at, sent_from, sent_to, \n",
    "                    conversation_id, reply_to, subject, full_body, date_extracted\n",
    "                FROM public.email_data_fields\n",
    "                LIMIT {limit}\n",
    "                \"\"\"\n",
    "    \n",
    "    cur.execute(query)\n",
    "    \n",
    "    # Fetch results and convert to DataFrame\n",
    "    columns = [desc[0] for desc in cur.description]\n",
    "    results = cur.fetchall()\n",
    "    df = pd.DataFrame(results, columns=columns)\n",
    "    \n",
    "    # Close connection\n",
    "    cur.close()\n",
    "    conn.close()\n",
    "    \n",
    "    return df\n"
   ]
  },
  {
   "cell_type": "code",
   "execution_count": 3,
   "metadata": {},
   "outputs": [],
   "source": [
    "df = fetch_email_data(30000)"
   ]
  },
  {
   "cell_type": "markdown",
   "metadata": {},
   "source": [
    "## load the previous data dump"
   ]
  },
  {
   "cell_type": "code",
   "execution_count": 1,
   "metadata": {},
   "outputs": [],
   "source": [
    "import pandas as pd\n",
    "# df.to_csv(\"dataset/postgresql-dump-30k.csv\", index=False)\n",
    "\n",
    "df = pd.read_csv(\"dataset/postgresql-dump-30k.csv\")"
   ]
  },
  {
   "cell_type": "code",
   "execution_count": 2,
   "metadata": {},
   "outputs": [
    {
     "data": {
      "text/html": [
       "<div>\n",
       "<style scoped>\n",
       "    .dataframe tbody tr th:only-of-type {\n",
       "        vertical-align: middle;\n",
       "    }\n",
       "\n",
       "    .dataframe tbody tr th {\n",
       "        vertical-align: top;\n",
       "    }\n",
       "\n",
       "    .dataframe thead th {\n",
       "        text-align: right;\n",
       "    }\n",
       "</style>\n",
       "<table border=\"1\" class=\"dataframe\">\n",
       "  <thead>\n",
       "    <tr style=\"text-align: right;\">\n",
       "      <th></th>\n",
       "      <th>platform</th>\n",
       "      <th>email_id</th>\n",
       "      <th>received_at</th>\n",
       "      <th>sent_at</th>\n",
       "      <th>sent_from</th>\n",
       "      <th>sent_to</th>\n",
       "      <th>conversation_id</th>\n",
       "      <th>reply_to</th>\n",
       "      <th>subject</th>\n",
       "      <th>full_body</th>\n",
       "      <th>date_extracted</th>\n",
       "    </tr>\n",
       "  </thead>\n",
       "  <tbody>\n",
       "    <tr>\n",
       "      <th>0</th>\n",
       "      <td>NaN</td>\n",
       "      <td>5778f63d2a7a1fc12ed3225e99574068</td>\n",
       "      <td>2000-11-10 02:50:00</td>\n",
       "      <td>2000-11-10 02:50:00</td>\n",
       "      <td>ebass@enron.com</td>\n",
       "      <td>ebass@enron.com</td>\n",
       "      <td>NaN</td>\n",
       "      <td>NaN</td>\n",
       "      <td>Commissioner.COM Transaction Request</td>\n",
       "      <td>This in an automated e-mail sent out from the ...</td>\n",
       "      <td>2025-02-22</td>\n",
       "    </tr>\n",
       "    <tr>\n",
       "      <th>1</th>\n",
       "      <td>NaN</td>\n",
       "      <td>58cd5d1b9b84ad4ae5317a2c9de5fe73</td>\n",
       "      <td>2000-09-15 06:44:00</td>\n",
       "      <td>2000-09-15 06:44:00</td>\n",
       "      <td>shona.wilson@enron.com</td>\n",
       "      <td>ted.murphy@enron.com, sally.beck@enron.com</td>\n",
       "      <td>NaN</td>\n",
       "      <td>NaN</td>\n",
       "      <td>updated budget for doorstep</td>\n",
       "      <td>There was an incorrect formula in the previous...</td>\n",
       "      <td>2025-02-22</td>\n",
       "    </tr>\n",
       "    <tr>\n",
       "      <th>2</th>\n",
       "      <td>NaN</td>\n",
       "      <td>c773eee1e97da6650453f02037f47511</td>\n",
       "      <td>2000-10-23 10:11:00</td>\n",
       "      <td>2000-10-23 10:11:00</td>\n",
       "      <td>eric.bass@enron.com</td>\n",
       "      <td>lwbthemarine@bigplanet.com</td>\n",
       "      <td>NaN</td>\n",
       "      <td>NaN</td>\n",
       "      <td>Re: election night</td>\n",
       "      <td>That sounds like a good idea.  I guess you wil...</td>\n",
       "      <td>2025-02-22</td>\n",
       "    </tr>\n",
       "    <tr>\n",
       "      <th>3</th>\n",
       "      <td>NaN</td>\n",
       "      <td>059c294f34b1cb201ae60e5750bcff05</td>\n",
       "      <td>2001-09-26 08:42:04</td>\n",
       "      <td>2001-09-26 08:42:04</td>\n",
       "      <td>eric.bass@enron.com</td>\n",
       "      <td>patrick.ryder@enron.com</td>\n",
       "      <td>NaN</td>\n",
       "      <td>NaN</td>\n",
       "      <td>(No Subject)</td>\n",
       "      <td>http://www.dailytexanonline.com/vnews/display....</td>\n",
       "      <td>2025-02-22</td>\n",
       "    </tr>\n",
       "    <tr>\n",
       "      <th>4</th>\n",
       "      <td>NaN</td>\n",
       "      <td>2c8cb45b0a159d731078eb6f04ac8234</td>\n",
       "      <td>2000-09-05 01:45:00</td>\n",
       "      <td>2000-09-05 01:45:00</td>\n",
       "      <td>john.sorrells@enron.com</td>\n",
       "      <td>donna.lowry@enron.com, richard.lauer@enron.com</td>\n",
       "      <td>NaN</td>\n",
       "      <td>NaN</td>\n",
       "      <td>Reporting</td>\n",
       "      <td>Donna and RIchard,\\n\\nMore information for you...</td>\n",
       "      <td>2025-02-22</td>\n",
       "    </tr>\n",
       "  </tbody>\n",
       "</table>\n",
       "</div>"
      ],
      "text/plain": [
       "   platform                          email_id          received_at  \\\n",
       "0       NaN  5778f63d2a7a1fc12ed3225e99574068  2000-11-10 02:50:00   \n",
       "1       NaN  58cd5d1b9b84ad4ae5317a2c9de5fe73  2000-09-15 06:44:00   \n",
       "2       NaN  c773eee1e97da6650453f02037f47511  2000-10-23 10:11:00   \n",
       "3       NaN  059c294f34b1cb201ae60e5750bcff05  2001-09-26 08:42:04   \n",
       "4       NaN  2c8cb45b0a159d731078eb6f04ac8234  2000-09-05 01:45:00   \n",
       "\n",
       "               sent_at                sent_from  \\\n",
       "0  2000-11-10 02:50:00          ebass@enron.com   \n",
       "1  2000-09-15 06:44:00   shona.wilson@enron.com   \n",
       "2  2000-10-23 10:11:00      eric.bass@enron.com   \n",
       "3  2001-09-26 08:42:04      eric.bass@enron.com   \n",
       "4  2000-09-05 01:45:00  john.sorrells@enron.com   \n",
       "\n",
       "                                          sent_to  conversation_id  reply_to  \\\n",
       "0                                 ebass@enron.com              NaN       NaN   \n",
       "1      ted.murphy@enron.com, sally.beck@enron.com              NaN       NaN   \n",
       "2                      lwbthemarine@bigplanet.com              NaN       NaN   \n",
       "3                         patrick.ryder@enron.com              NaN       NaN   \n",
       "4  donna.lowry@enron.com, richard.lauer@enron.com              NaN       NaN   \n",
       "\n",
       "                                subject  \\\n",
       "0  Commissioner.COM Transaction Request   \n",
       "1           updated budget for doorstep   \n",
       "2                    Re: election night   \n",
       "3                          (No Subject)   \n",
       "4                             Reporting   \n",
       "\n",
       "                                           full_body date_extracted  \n",
       "0  This in an automated e-mail sent out from the ...     2025-02-22  \n",
       "1  There was an incorrect formula in the previous...     2025-02-22  \n",
       "2  That sounds like a good idea.  I guess you wil...     2025-02-22  \n",
       "3  http://www.dailytexanonline.com/vnews/display....     2025-02-22  \n",
       "4  Donna and RIchard,\\n\\nMore information for you...     2025-02-22  "
      ]
     },
     "execution_count": 2,
     "metadata": {},
     "output_type": "execute_result"
    }
   ],
   "source": [
    "df.head()"
   ]
  },
  {
   "cell_type": "code",
   "execution_count": null,
   "metadata": {},
   "outputs": [],
   "source": []
  },
  {
   "cell_type": "markdown",
   "metadata": {},
   "source": [
    "# text preprocessing"
   ]
  },
  {
   "cell_type": "markdown",
   "metadata": {},
   "source": [
    "first we will get the the character length for each mail to check if one of the mails is beyond say 10000 characters. Because in such cases it is more likely to be a legal document etc."
   ]
  },
  {
   "cell_type": "code",
   "execution_count": 3,
   "metadata": {},
   "outputs": [],
   "source": [
    "import numpy as np\n",
    "\n",
    "char_len_list = []\n",
    "\n",
    "for n, mail in enumerate(df['full_body']):\n",
    "\n",
    "    if not pd.isna(mail):\n",
    "        char_len_list.append(len(mail))\n",
    "\n",
    "char_len_list= np.array(char_len_list)"
   ]
  },
  {
   "cell_type": "markdown",
   "metadata": {},
   "source": [
    "# data visualization"
   ]
  },
  {
   "cell_type": "code",
   "execution_count": 4,
   "metadata": {},
   "outputs": [
    {
     "name": "stdout",
     "output_type": "stream",
     "text": [
      "### stats for mail body\n",
      "mean : 266, median : 185, min : 1, max : 1000\n"
     ]
    }
   ],
   "source": [
    "print(\"### stats for mail body\")\n",
    "\n",
    "print(f\"mean : {int(char_len_list.mean())}, median : {int(np.median(char_len_list))}, min : {min(char_len_list)}, max : {max(char_len_list)}\")"
   ]
  },
  {
   "cell_type": "markdown",
   "metadata": {},
   "source": [
    "<h3>Observations :</h3>\n",
    "<br>\n",
    "All the mails are under 1k charater lengths. so there are no such outliers. at least in our sample"
   ]
  },
  {
   "cell_type": "code",
   "execution_count": 5,
   "metadata": {},
   "outputs": [],
   "source": [
    "import matplotlib.pyplot as plt"
   ]
  },
  {
   "cell_type": "code",
   "execution_count": 6,
   "metadata": {},
   "outputs": [
    {
     "data": {
      "image/png": "[encoded data removed]",
      "text/plain": [
       "<Figure size 1000x600 with 1 Axes>"
      ]
     },
     "metadata": {},
     "output_type": "display_data"
    }
   ],
   "source": [
    "plt.figure(figsize=(10, 6))\n",
    "plt.hist(char_len_list, bins=50, edgecolor='black', alpha=0.7)\n",
    "\n",
    "plt.xlabel(\"Email Body Length (Characters)\")\n",
    "plt.ylabel(\"Frequency\")\n",
    "plt.title(\"Histogram of Email Body Lengths\")\n",
    "plt.grid(axis='y', linestyle='--', alpha=0.7)\n",
    "\n",
    "plt.show()"
   ]
  },
  {
   "cell_type": "markdown",
   "metadata": {},
   "source": [
    "<h3>Observations :</h3>\n",
    "<br>\n",
    "most of the emails are under 500 characters or less."
   ]
  },
  {
   "cell_type": "markdown",
   "metadata": {},
   "source": [
    "# Unlabelled data : Labeling the data with LLM"
   ]
  },
  {
   "cell_type": "markdown",
   "metadata": {},
   "source": [
    "the present dataset does not have the any labeling. So to resolve this issue, we can use LLMs to label the mails in following three classes : Positive, Negative & Neutral"
   ]
  },
  {
   "cell_type": "code",
   "execution_count": 7,
   "metadata": {},
   "outputs": [],
   "source": [
    "from dotenv import load_dotenv\n",
    "import os\n",
    "from groq import Groq\n",
    "\n",
    "load_dotenv(\"utils/.env\",override=True)  # Load .env file\n",
    "\n",
    "GROQ_API_KEY = os.getenv(\"GROQ_API_KEY\")"
   ]
  },
  {
   "cell_type": "code",
   "execution_count": 8,
   "metadata": {},
   "outputs": [],
   "source": [
    "class groq_model:\n",
    "    def __init__(self, model=\"gemma2-9b-it\"):\n",
    "        self.client = Groq(api_key=os.getenv(\"GROQ_API_KEY\"))\n",
    "        self.model_name = model\n",
    "\n",
    "    def get_response(self, query):\n",
    "        chat_completion = self.client.chat.completions.create(\n",
    "                messages=[\n",
    "                    {\n",
    "                        \"role\": \"user\",\n",
    "                        \"content\": query,\n",
    "                    }\n",
    "                ],\n",
    "                model=self.model_name,\n",
    "                \n",
    "            )\n",
    "        \n",
    "        return chat_completion.choices[0].message.content"
   ]
  },
  {
   "cell_type": "markdown",
   "metadata": {},
   "source": [
    "## prepare a small dataset"
   ]
  },
  {
   "cell_type": "code",
   "execution_count": 9,
   "metadata": {},
   "outputs": [],
   "source": [
    "import json\n",
    "from time import sleep\n",
    "import re\n",
    "def extract_json_from_text(text):\n",
    "    pattern = r'```json\\s*(\\{[\\s\\S]*?\\})\\s*```'\n",
    "    match = re.search(pattern, text, re.DOTALL)\n",
    "    \n",
    "    if match:\n",
    "        json_str = match.group(1)\n",
    "    else:\n",
    "        # Fallback: try to extract any JSON object from the text\n",
    "        match = re.search(r'(\\{[\\s\\S]*\\})', text)\n",
    "        if match:\n",
    "            json_str = match.group(1)\n",
    "        else:\n",
    "            return None\n",
    "\n",
    "    try:\n",
    "        data = json.loads(json_str)\n",
    "        # Optionally verify the expected structure:\n",
    "        if \"response\" in data and isinstance(data[\"response\"], list):\n",
    "            return data\n",
    "        else:\n",
    "            print(\"JSON does not match the expected format (missing 'response' key or it is not a list).\")\n",
    "            return None\n",
    "    except json.JSONDecodeError as e:\n",
    "        print(\"Error decoding JSON:\", e)\n",
    "        return None"
   ]
  },
  {
   "cell_type": "markdown",
   "metadata": {},
   "source": [
    "<h4>We will be first using the following prompt to let the know the LLM what is its task and how it should return the classification result</h4>\n"
   ]
  },
  {
   "cell_type": "code",
   "execution_count": 10,
   "metadata": {},
   "outputs": [],
   "source": [
    "with open(\"utils/prompts/detect-classification.txt\", \"r\") as f:\n",
    "    prompt = f.read()\n",
    "\n",
    "with open(\"utils/sentiments.json\", \"r\") as f:\n",
    "    sentiment_classes = json.load(f)"
   ]
  },
  {
   "cell_type": "code",
   "execution_count": 11,
   "metadata": {},
   "outputs": [
    {
     "data": {
      "text/plain": [
       "['Positive', 'Negative', 'Neutral']"
      ]
     },
     "execution_count": 11,
     "metadata": {},
     "output_type": "execute_result"
    }
   ],
   "source": [
    "sentiment_classes"
   ]
  },
  {
   "cell_type": "code",
   "execution_count": 12,
   "metadata": {},
   "outputs": [
    {
     "data": {
      "text/plain": [
       "'1. Positive\\n2. Negative\\n3. Neutral\\n'"
      ]
     },
     "execution_count": 12,
     "metadata": {},
     "output_type": "execute_result"
    }
   ],
   "source": [
    "sentiments_str = \"\"\n",
    "\n",
    "for i, s in enumerate(sentiment_classes):\n",
    "    sentiments_str+=f\"{i+1}. {s}\\n\"\n",
    "sentiments_str"
   ]
  },
  {
   "cell_type": "code",
   "execution_count": 13,
   "metadata": {},
   "outputs": [
    {
     "data": {
      "text/plain": [
       "Index(['platform', 'email_id', 'received_at', 'sent_at', 'sent_from',\n",
       "       'sent_to', 'conversation_id', 'reply_to', 'subject', 'full_body',\n",
       "       'date_extracted'],\n",
       "      dtype='object')"
      ]
     },
     "execution_count": 13,
     "metadata": {},
     "output_type": "execute_result"
    }
   ],
   "source": [
    "df.columns"
   ]
  },
  {
   "cell_type": "markdown",
   "metadata": {},
   "source": [
    "<h4>we will now run the LLM with our sampled data and get it labelled & convert it into a csv file"
   ]
  },
  {
   "cell_type": "code",
   "execution_count": null,
   "metadata": {},
   "outputs": [],
   "source": [
    "# small_data = []\n",
    "\n",
    "with open(\"output/output.json\", \"r\") as f:\n",
    "    small_data = json.load(f)\n",
    "\n",
    "lag= 4100\n",
    "\n",
    "sm_db_size = 450+lag\n",
    "done_num = 0+lag\n",
    "idx = 0+lag\n",
    "\n",
    "sleep_time = 3\n",
    "\n",
    "# model = groq_model()\n",
    "model = groq_model(model=\"llama-3.1-8b-instant\")\n",
    "# model = groq_model(model=\"llama3-8b-8192\")\n",
    "# model = groq_model(model=\"llama-3.3-70b-versatile\")\n",
    "\n",
    "\n",
    "\n",
    "\n",
    "while done_num<sm_db_size:   \n",
    "    \n",
    "    mail = df['full_body'][idx]\n",
    "\n",
    "    if pd.isna(mail):\n",
    "        idx+=1\n",
    "        continue\n",
    "        \n",
    "    # if len(mail)>large_char_len:\n",
    "    #     idx+=1\n",
    "    #     continue\n",
    "\n",
    "    try:\n",
    "        # identifying the values\n",
    "        mail_date = df['sent_at'][idx]\n",
    "        mail_from = df['sent_from'][idx]\n",
    "        mail_to = df['sent_to'][idx]\n",
    "        mail_subject = df['subject'][idx]\n",
    "\n",
    "        query = prompt.replace(\"$#emailbody#$\", mail).replace(\"$#sentiment-categories#$\", sentiments_str)\n",
    "        response = model.get_response(query)\n",
    "\n",
    "        # print(response)\n",
    "\n",
    "        result_class = extract_json_from_text(response)['response']\n",
    "\n",
    "\n",
    "        highest_category = max(result_class, key=lambda x: x[\"probability\"])\n",
    "\n",
    "        mail_dict = {\"body\":mail, \"class\":highest_category[\"category_name\"], \"probability\":highest_category[\"probability\"], \"Date\":mail_date, \n",
    "                        \"From\":mail_from,\n",
    "                        \"To\":mail_to,\n",
    "                        \"Subject\":mail_subject}\n",
    "\n",
    "        small_data.append(mail_dict)\n",
    "    \n",
    "    except:\n",
    "        print(\"Exception occured skipping this\", idx)\n",
    "        continue\n",
    "\n",
    "    idx+=1\n",
    "    done_num+=1\n",
    "\n",
    "    print(f\"done : {idx}\")\n",
    "\n",
    "    with open(\"output/output.json\", \"w\") as f:\n",
    "        json.dump(small_data, f)\n",
    "\n",
    "    sleep(sleep_time)\n",
    "\n"
   ]
  },
  {
   "cell_type": "code",
   "execution_count": null,
   "metadata": {},
   "outputs": [],
   "source": [
    "len(small_data)"
   ]
  },
  {
   "cell_type": "code",
   "execution_count": 16,
   "metadata": {},
   "outputs": [],
   "source": [
    "import json\n",
    "# with open(\"output/output.json\", \"w\") as f:\n",
    "#     json.dump(small_data, f)\n",
    "\n",
    "with open(\"output/output.json\", \"r\") as f:\n",
    "    small_data = json.load(f)\n"
   ]
  },
  {
   "cell_type": "code",
   "execution_count": 17,
   "metadata": {},
   "outputs": [
    {
     "data": {
      "text/plain": [
       "2191"
      ]
     },
     "execution_count": 17,
     "metadata": {},
     "output_type": "execute_result"
    }
   ],
   "source": [
    "len(small_data)"
   ]
  },
  {
   "cell_type": "code",
   "execution_count": 18,
   "metadata": {},
   "outputs": [],
   "source": [
    "import pandas as pd"
   ]
  },
  {
   "cell_type": "code",
   "execution_count": 21,
   "metadata": {},
   "outputs": [
    {
     "data": {
      "text/plain": [
       "2191"
      ]
     },
     "execution_count": 21,
     "metadata": {},
     "output_type": "execute_result"
    }
   ],
   "source": [
    "# new_df = pd.DataFrame(small_data)\n",
    "# new_df.to_csv(\"output/output.csv\", index=False)\n",
    "\n",
    "new_df = pd.read_csv(\"output/output.csv\")\n",
    "len(new_df)"
   ]
  },
  {
   "cell_type": "code",
   "execution_count": 22,
   "metadata": {},
   "outputs": [
    {
     "data": {
      "text/plain": [
       "Index(['body', 'class', 'probability', 'Date', 'From', 'To', 'Subject'], dtype='object')"
      ]
     },
     "execution_count": 22,
     "metadata": {},
     "output_type": "execute_result"
    }
   ],
   "source": [
    "new_df.columns"
   ]
  },
  {
   "cell_type": "code",
   "execution_count": 23,
   "metadata": {},
   "outputs": [],
   "source": [
    "import matplotlib.pyplot as plt"
   ]
  },
  {
   "cell_type": "code",
   "execution_count": 24,
   "metadata": {},
   "outputs": [
    {
     "data": {
      "text/plain": [
       "[]"
      ]
     },
     "execution_count": 24,
     "metadata": {},
     "output_type": "execute_result"
    },
    {
     "data": {
      "image/png": "[encoded data removed]",
      "text/plain": [
       "<Figure size 640x480 with 1 Axes>"
      ]
     },
     "metadata": {},
     "output_type": "display_data"
    }
   ],
   "source": [
    "plt.hist(new_df['class'])\n",
    "\n",
    "plt.xlabel(\"classifications\")\n",
    "plt.title(\"classification distribution\")\n",
    "plt.plot()"
   ]
  },
  {
   "cell_type": "markdown",
   "metadata": {},
   "source": [
    "<h3>Observations :</h3>\n",
    "<ul>\n",
    "    <li>the Negative sentiments are very under-represented in our dataset, which is not helpful.\n",
    "    <li>similarly the positive sentiments are also under represented, though they are double that of negative classes"
   ]
  },
  {
   "cell_type": "code",
   "execution_count": null,
   "metadata": {},
   "outputs": [],
   "source": []
  },
  {
   "cell_type": "code",
   "execution_count": null,
   "metadata": {},
   "outputs": [],
   "source": []
  },
  {
   "cell_type": "markdown",
   "metadata": {},
   "source": [
    "# dataset preperation"
   ]
  },
  {
   "cell_type": "markdown",
   "metadata": {},
   "source": [
    "<h3>Droping the other classes</h3>\n",
    "<br>\n",
    "#### to resolve the issue of unbalanced data, we are just going to drop all other data points for Positive and Neutral classification and bring them to the level of Negatives"
   ]
  },
  {
   "cell_type": "markdown",
   "metadata": {},
   "source": [
    "#### data preprocessing"
   ]
  },
  {
   "cell_type": "code",
   "execution_count": 25,
   "metadata": {},
   "outputs": [],
   "source": [
    "import numpy as np\n",
    "import matplotlib.pyplot as plt"
   ]
  },
  {
   "cell_type": "code",
   "execution_count": 26,
   "metadata": {},
   "outputs": [
    {
     "data": {
      "text/plain": [
       "class\n",
       "Neutral     1372\n",
       "Positive     593\n",
       "Negative     226\n",
       "Name: count, dtype: int64"
      ]
     },
     "execution_count": 26,
     "metadata": {},
     "output_type": "execute_result"
    }
   ],
   "source": [
    "new_df['class'].value_counts()"
   ]
  },
  {
   "cell_type": "code",
   "execution_count": 27,
   "metadata": {},
   "outputs": [],
   "source": [
    "new_df['probability'] = new_df['probability'].astype(np.int16)"
   ]
  },
  {
   "cell_type": "code",
   "execution_count": 28,
   "metadata": {},
   "outputs": [
    {
     "data": {
      "text/plain": [
       "[]"
      ]
     },
     "execution_count": 28,
     "metadata": {},
     "output_type": "execute_result"
    },
    {
     "data": {
      "image/png": "[encoded data removed]",
      "text/plain": [
       "<Figure size 800x600 with 1 Axes>"
      ]
     },
     "metadata": {},
     "output_type": "display_data"
    }
   ],
   "source": [
    "plt.figure(figsize=(8,6))\n",
    "plt.hist(new_df['probability'], bins=30)\n",
    "plt.xlabel(\"confidence score\")\n",
    "plt.title(\"confidence score for sentiments\")\n",
    "plt.plot()"
   ]
  },
  {
   "cell_type": "markdown",
   "metadata": {},
   "source": [
    "<h3>Observations :</h3>\n",
    "<br>\n",
    "We can see that there are some observations that have below 50% confidence. we are also going to filter them out, so that the model does not get confused about the classification"
   ]
  },
  {
   "cell_type": "code",
   "execution_count": 29,
   "metadata": {},
   "outputs": [
    {
     "data": {
      "text/plain": [
       "2191"
      ]
     },
     "execution_count": 29,
     "metadata": {},
     "output_type": "execute_result"
    }
   ],
   "source": [
    "len(new_df)"
   ]
  },
  {
   "cell_type": "code",
   "execution_count": 30,
   "metadata": {},
   "outputs": [
    {
     "data": {
      "text/plain": [
       "2063"
      ]
     },
     "execution_count": 30,
     "metadata": {},
     "output_type": "execute_result"
    }
   ],
   "source": [
    "df_filtered = new_df[new_df['probability']>50]\n",
    "len(df_filtered)"
   ]
  },
  {
   "cell_type": "code",
   "execution_count": 31,
   "metadata": {},
   "outputs": [
    {
     "data": {
      "text/plain": [
       "[]"
      ]
     },
     "execution_count": 31,
     "metadata": {},
     "output_type": "execute_result"
    },
    {
     "data": {
      "image/png": "[encoded data removed]",
      "text/plain": [
       "<Figure size 800x600 with 1 Axes>"
      ]
     },
     "metadata": {},
     "output_type": "display_data"
    }
   ],
   "source": [
    "plt.figure(figsize=(8,6))\n",
    "plt.hist(df_filtered['probability'], bins=30)\n",
    "plt.xlabel(\"confidence score\")\n",
    "plt.title(\"confidence score for sentiments\")\n",
    "plt.plot()"
   ]
  },
  {
   "cell_type": "markdown",
   "metadata": {},
   "source": [
    "<h3>Observations :</h3>\n",
    "<br>\n",
    "Now all the sentiments have over 50% of confidence"
   ]
  },
  {
   "cell_type": "code",
   "execution_count": 32,
   "metadata": {},
   "outputs": [
    {
     "data": {
      "text/plain": [
       "class\n",
       "Neutral     1304\n",
       "Positive     553\n",
       "Negative     206\n",
       "Name: count, dtype: int64"
      ]
     },
     "execution_count": 32,
     "metadata": {},
     "output_type": "execute_result"
    }
   ],
   "source": [
    "df_filtered['class'].value_counts()\n"
   ]
  },
  {
   "cell_type": "code",
   "execution_count": 33,
   "metadata": {},
   "outputs": [
    {
     "data": {
      "text/plain": [
       "206"
      ]
     },
     "execution_count": 33,
     "metadata": {},
     "output_type": "execute_result"
    }
   ],
   "source": [
    "negative_class_len = len(df_filtered[df_filtered['class']==\"Negative\"])\n",
    "negative_class_len"
   ]
  },
  {
   "cell_type": "code",
   "execution_count": 124,
   "metadata": {},
   "outputs": [
    {
     "data": {
      "text/plain": [
       "class\n",
       "Negative    206\n",
       "Neutral     206\n",
       "Positive    206\n",
       "Name: count, dtype: int64"
      ]
     },
     "execution_count": 124,
     "metadata": {},
     "output_type": "execute_result"
    }
   ],
   "source": [
    "from sklearn.utils import resample\n",
    "\n",
    "# Separate classes\n",
    "df_negative = df_filtered[df_filtered['class'] == 'Negative']\n",
    "df_positive = df_filtered[df_filtered['class'] == 'Positive']\n",
    "df_neutral = df_filtered[df_filtered['class'] == 'Neutral']\n",
    "\n",
    "negative_class_len = len(df_negative)\n",
    "\n",
    "# Downsample majority classes\n",
    "df_positive_resampled = resample(df_positive, replace=False, n_samples=negative_class_len, random_state=42)\n",
    "df_neutral_resampled = resample(df_neutral, replace=False, n_samples=negative_class_len, random_state=42)\n",
    "\n",
    "# Combine all classes into a new balanced dataset\n",
    "df_balanced = pd.concat([df_negative, df_positive_resampled, df_neutral_resampled])\n",
    "\n",
    "# Shuffle the dataset\n",
    "df_balanced = df_balanced.sample(frac=1, random_state=42).reset_index(drop=True)\n",
    "\n",
    "# Check class distribution\n",
    "df_balanced['class'].value_counts()\n"
   ]
  },
  {
   "cell_type": "markdown",
   "metadata": {},
   "source": [
    "#### double the negatives"
   ]
  },
  {
   "cell_type": "markdown",
   "metadata": {},
   "source": [
    "<h3>Observations :</h3>\n",
    "<br>\n",
    "After doubling the negatives it did not improve the accuracy"
   ]
  },
  {
   "cell_type": "code",
   "execution_count": 104,
   "metadata": {},
   "outputs": [
    {
     "data": {
      "text/plain": [
       "class\n",
       "Neutral     124\n",
       "Negative    124\n",
       "Positive    124\n",
       "Name: count, dtype: int64"
      ]
     },
     "execution_count": 104,
     "metadata": {},
     "output_type": "execute_result"
    }
   ],
   "source": [
    "# from sklearn.utils import resample\n",
    "\n",
    "# # Separate classes\n",
    "# df_negative = df_filtered[df_filtered['class'] == 'Negative']\n",
    "# df_negative = pd.concat([df_negative] * 2, ignore_index=True)\n",
    "\n",
    "# negative_class_len = len(df_negative)\n",
    "\n",
    "# df_positive = df_filtered[df_filtered['class'] == 'Positive']\n",
    "# df_neutral = df_filtered[df_filtered['class'] == 'Neutral']\n",
    "\n",
    "# # Downsample majority classes\n",
    "# df_positive_resampled = resample(df_positive, replace=False, n_samples=negative_class_len, random_state=42)\n",
    "# df_neutral_resampled = resample(df_neutral, replace=False, n_samples=negative_class_len, random_state=42)\n",
    "\n",
    "# # Combine all classes into a new balanced dataset\n",
    "# df_balanced = pd.concat([df_negative, df_positive_resampled, df_neutral_resampled])\n",
    "\n",
    "# # Shuffle the dataset\n",
    "# df_balanced = df_balanced.sample(frac=1, random_state=42).reset_index(drop=True)\n",
    "\n",
    "# # Check class distribution\n",
    "# df_balanced['class'].value_counts()\n"
   ]
  },
  {
   "cell_type": "code",
   "execution_count": null,
   "metadata": {},
   "outputs": [],
   "source": []
  },
  {
   "cell_type": "code",
   "execution_count": null,
   "metadata": {},
   "outputs": [],
   "source": []
  },
  {
   "cell_type": "code",
   "execution_count": 35,
   "metadata": {},
   "outputs": [
    {
     "data": {
      "text/html": [
       "<div>\n",
       "<style scoped>\n",
       "    .dataframe tbody tr th:only-of-type {\n",
       "        vertical-align: middle;\n",
       "    }\n",
       "\n",
       "    .dataframe tbody tr th {\n",
       "        vertical-align: top;\n",
       "    }\n",
       "\n",
       "    .dataframe thead th {\n",
       "        text-align: right;\n",
       "    }\n",
       "</style>\n",
       "<table border=\"1\" class=\"dataframe\">\n",
       "  <thead>\n",
       "    <tr style=\"text-align: right;\">\n",
       "      <th></th>\n",
       "      <th>body</th>\n",
       "      <th>class</th>\n",
       "      <th>probability</th>\n",
       "      <th>Date</th>\n",
       "      <th>From</th>\n",
       "      <th>To</th>\n",
       "      <th>Subject</th>\n",
       "    </tr>\n",
       "  </thead>\n",
       "  <tbody>\n",
       "    <tr>\n",
       "      <th>0</th>\n",
       "      <td>did you buy any enron in the 60s?</td>\n",
       "      <td>Negative</td>\n",
       "      <td>90</td>\n",
       "      <td>2000-12-06 07:03:00</td>\n",
       "      <td>eric.bass@enron.com</td>\n",
       "      <td>lwbthemarine@bigplanet.com</td>\n",
       "      <td>(No Subject)</td>\n",
       "    </tr>\n",
       "    <tr>\n",
       "      <th>1</th>\n",
       "      <td>Gary,\\n\\nWhat is the market for IAH Jan-Mar HD...</td>\n",
       "      <td>Neutral</td>\n",
       "      <td>85</td>\n",
       "      <td>2000-12-06 09:32:00</td>\n",
       "      <td>eric.bass@enron.com</td>\n",
       "      <td>gary.taylor@enron.com</td>\n",
       "      <td>JAN-MAR Degree Day Swaps</td>\n",
       "    </tr>\n",
       "    <tr>\n",
       "      <th>2</th>\n",
       "      <td>he hates the farmers down at the pulse machine...</td>\n",
       "      <td>Negative</td>\n",
       "      <td>95</td>\n",
       "      <td>2001-02-07 02:06:00</td>\n",
       "      <td>eric.bass@enron.com</td>\n",
       "      <td>david.baumbach@enron.com</td>\n",
       "      <td>Re: The Next HEISMAN winner for the University...</td>\n",
       "    </tr>\n",
       "    <tr>\n",
       "      <th>3</th>\n",
       "      <td>Hey,\\n\\nHow are things going with you guys?  W...</td>\n",
       "      <td>Positive</td>\n",
       "      <td>70</td>\n",
       "      <td>2001-12-11 08:09:26</td>\n",
       "      <td>eric.bass@enron.com</td>\n",
       "      <td>daphneco64@alltel.net</td>\n",
       "      <td>Mr. Hamilton</td>\n",
       "    </tr>\n",
       "    <tr>\n",
       "      <th>4</th>\n",
       "      <td>you might want to save yourself the agony of h...</td>\n",
       "      <td>Negative</td>\n",
       "      <td>80</td>\n",
       "      <td>2000-02-28 04:27:00</td>\n",
       "      <td>eric.bass@enron.com</td>\n",
       "      <td>shanna.husser@enron.com</td>\n",
       "      <td>Re:</td>\n",
       "    </tr>\n",
       "  </tbody>\n",
       "</table>\n",
       "</div>"
      ],
      "text/plain": [
       "                                                body     class  probability  \\\n",
       "0                  did you buy any enron in the 60s?  Negative           90   \n",
       "1  Gary,\\n\\nWhat is the market for IAH Jan-Mar HD...   Neutral           85   \n",
       "2  he hates the farmers down at the pulse machine...  Negative           95   \n",
       "3  Hey,\\n\\nHow are things going with you guys?  W...  Positive           70   \n",
       "4  you might want to save yourself the agony of h...  Negative           80   \n",
       "\n",
       "                  Date                 From                          To  \\\n",
       "0  2000-12-06 07:03:00  eric.bass@enron.com  lwbthemarine@bigplanet.com   \n",
       "1  2000-12-06 09:32:00  eric.bass@enron.com       gary.taylor@enron.com   \n",
       "2  2001-02-07 02:06:00  eric.bass@enron.com    david.baumbach@enron.com   \n",
       "3  2001-12-11 08:09:26  eric.bass@enron.com       daphneco64@alltel.net   \n",
       "4  2000-02-28 04:27:00  eric.bass@enron.com     shanna.husser@enron.com   \n",
       "\n",
       "                                             Subject  \n",
       "0                                       (No Subject)  \n",
       "1                           JAN-MAR Degree Day Swaps  \n",
       "2  Re: The Next HEISMAN winner for the University...  \n",
       "3                                       Mr. Hamilton  \n",
       "4                                                Re:  "
      ]
     },
     "execution_count": 35,
     "metadata": {},
     "output_type": "execute_result"
    }
   ],
   "source": [
    "df_balanced.head()"
   ]
  },
  {
   "cell_type": "code",
   "execution_count": 36,
   "metadata": {},
   "outputs": [
    {
     "data": {
      "text/plain": [
       "618"
      ]
     },
     "execution_count": 36,
     "metadata": {},
     "output_type": "execute_result"
    }
   ],
   "source": [
    "len(df_balanced)"
   ]
  },
  {
   "cell_type": "code",
   "execution_count": 37,
   "metadata": {},
   "outputs": [
    {
     "data": {
      "text/plain": [
       "618"
      ]
     },
     "execution_count": 37,
     "metadata": {},
     "output_type": "execute_result"
    }
   ],
   "source": [
    "len(df_balanced)"
   ]
  },
  {
   "cell_type": "markdown",
   "metadata": {},
   "source": [
    "# embedding based classification"
   ]
  },
  {
   "cell_type": "markdown",
   "metadata": {},
   "source": [
    "#### data processing"
   ]
  },
  {
   "cell_type": "markdown",
   "metadata": {},
   "source": [
    "We will use \"all-MiniLM-L6-v2\" model to convert the text into embeddings. For model training"
   ]
  },
  {
   "cell_type": "code",
   "execution_count": 38,
   "metadata": {},
   "outputs": [
    {
     "name": "stderr",
     "output_type": "stream",
     "text": [
      "/home/heramb96/miniconda3/envs/glynac/lib/python3.13/site-packages/tqdm/auto.py:21: TqdmWarning: IProgress not found. Please update jupyter and ipywidgets. See https://ipywidgets.readthedocs.io/en/stable/user_install.html\n",
      "  from .autonotebook import tqdm as notebook_tqdm\n"
     ]
    }
   ],
   "source": [
    "from sentence_transformers import SentenceTransformer\n",
    "\n",
    "# 1. Load a pretrained Sentence Transformer model\n",
    "emdeddingModel = SentenceTransformer(\"all-MiniLM-L6-v2\")"
   ]
  },
  {
   "cell_type": "code",
   "execution_count": 125,
   "metadata": {},
   "outputs": [],
   "source": [
    "df_balanced = pd.get_dummies(df_balanced, columns=['class'], dtype=int)"
   ]
  },
  {
   "cell_type": "code",
   "execution_count": 126,
   "metadata": {},
   "outputs": [
    {
     "data": {
      "text/html": [
       "<div>\n",
       "<style scoped>\n",
       "    .dataframe tbody tr th:only-of-type {\n",
       "        vertical-align: middle;\n",
       "    }\n",
       "\n",
       "    .dataframe tbody tr th {\n",
       "        vertical-align: top;\n",
       "    }\n",
       "\n",
       "    .dataframe thead th {\n",
       "        text-align: right;\n",
       "    }\n",
       "</style>\n",
       "<table border=\"1\" class=\"dataframe\">\n",
       "  <thead>\n",
       "    <tr style=\"text-align: right;\">\n",
       "      <th></th>\n",
       "      <th>body</th>\n",
       "      <th>probability</th>\n",
       "      <th>Date</th>\n",
       "      <th>From</th>\n",
       "      <th>To</th>\n",
       "      <th>Subject</th>\n",
       "      <th>class_Negative</th>\n",
       "      <th>class_Neutral</th>\n",
       "      <th>class_Positive</th>\n",
       "    </tr>\n",
       "  </thead>\n",
       "  <tbody>\n",
       "    <tr>\n",
       "      <th>0</th>\n",
       "      <td>did you buy any enron in the 60s?</td>\n",
       "      <td>90</td>\n",
       "      <td>2000-12-06 07:03:00</td>\n",
       "      <td>eric.bass@enron.com</td>\n",
       "      <td>lwbthemarine@bigplanet.com</td>\n",
       "      <td>(No Subject)</td>\n",
       "      <td>1</td>\n",
       "      <td>0</td>\n",
       "      <td>0</td>\n",
       "    </tr>\n",
       "    <tr>\n",
       "      <th>1</th>\n",
       "      <td>Gary,\\n\\nWhat is the market for IAH Jan-Mar HD...</td>\n",
       "      <td>85</td>\n",
       "      <td>2000-12-06 09:32:00</td>\n",
       "      <td>eric.bass@enron.com</td>\n",
       "      <td>gary.taylor@enron.com</td>\n",
       "      <td>JAN-MAR Degree Day Swaps</td>\n",
       "      <td>0</td>\n",
       "      <td>1</td>\n",
       "      <td>0</td>\n",
       "    </tr>\n",
       "    <tr>\n",
       "      <th>2</th>\n",
       "      <td>he hates the farmers down at the pulse machine...</td>\n",
       "      <td>95</td>\n",
       "      <td>2001-02-07 02:06:00</td>\n",
       "      <td>eric.bass@enron.com</td>\n",
       "      <td>david.baumbach@enron.com</td>\n",
       "      <td>Re: The Next HEISMAN winner for the University...</td>\n",
       "      <td>1</td>\n",
       "      <td>0</td>\n",
       "      <td>0</td>\n",
       "    </tr>\n",
       "    <tr>\n",
       "      <th>3</th>\n",
       "      <td>Hey,\\n\\nHow are things going with you guys?  W...</td>\n",
       "      <td>70</td>\n",
       "      <td>2001-12-11 08:09:26</td>\n",
       "      <td>eric.bass@enron.com</td>\n",
       "      <td>daphneco64@alltel.net</td>\n",
       "      <td>Mr. Hamilton</td>\n",
       "      <td>0</td>\n",
       "      <td>0</td>\n",
       "      <td>1</td>\n",
       "    </tr>\n",
       "    <tr>\n",
       "      <th>4</th>\n",
       "      <td>you might want to save yourself the agony of h...</td>\n",
       "      <td>80</td>\n",
       "      <td>2000-02-28 04:27:00</td>\n",
       "      <td>eric.bass@enron.com</td>\n",
       "      <td>shanna.husser@enron.com</td>\n",
       "      <td>Re:</td>\n",
       "      <td>1</td>\n",
       "      <td>0</td>\n",
       "      <td>0</td>\n",
       "    </tr>\n",
       "  </tbody>\n",
       "</table>\n",
       "</div>"
      ],
      "text/plain": [
       "                                                body  probability  \\\n",
       "0                  did you buy any enron in the 60s?           90   \n",
       "1  Gary,\\n\\nWhat is the market for IAH Jan-Mar HD...           85   \n",
       "2  he hates the farmers down at the pulse machine...           95   \n",
       "3  Hey,\\n\\nHow are things going with you guys?  W...           70   \n",
       "4  you might want to save yourself the agony of h...           80   \n",
       "\n",
       "                  Date                 From                          To  \\\n",
       "0  2000-12-06 07:03:00  eric.bass@enron.com  lwbthemarine@bigplanet.com   \n",
       "1  2000-12-06 09:32:00  eric.bass@enron.com       gary.taylor@enron.com   \n",
       "2  2001-02-07 02:06:00  eric.bass@enron.com    david.baumbach@enron.com   \n",
       "3  2001-12-11 08:09:26  eric.bass@enron.com       daphneco64@alltel.net   \n",
       "4  2000-02-28 04:27:00  eric.bass@enron.com     shanna.husser@enron.com   \n",
       "\n",
       "                                             Subject  class_Negative  \\\n",
       "0                                       (No Subject)               1   \n",
       "1                           JAN-MAR Degree Day Swaps               0   \n",
       "2  Re: The Next HEISMAN winner for the University...               1   \n",
       "3                                       Mr. Hamilton               0   \n",
       "4                                                Re:               1   \n",
       "\n",
       "   class_Neutral  class_Positive  \n",
       "0              0               0  \n",
       "1              1               0  \n",
       "2              0               0  \n",
       "3              0               1  \n",
       "4              0               0  "
      ]
     },
     "execution_count": 126,
     "metadata": {},
     "output_type": "execute_result"
    }
   ],
   "source": [
    "df_balanced.head()"
   ]
  },
  {
   "cell_type": "code",
   "execution_count": 127,
   "metadata": {},
   "outputs": [],
   "source": [
    "X = df_balanced['body']\n",
    "y = df_balanced[[\"class_Negative\",\"class_Neutral\", \"class_Positive\"]]\n",
    "y = np.argmax(y.values, axis=1)"
   ]
  },
  {
   "cell_type": "code",
   "execution_count": 128,
   "metadata": {},
   "outputs": [
    {
     "data": {
      "text/plain": [
       "(618, 384)"
      ]
     },
     "execution_count": 128,
     "metadata": {},
     "output_type": "execute_result"
    }
   ],
   "source": [
    "X = emdeddingModel.encode(X)\n",
    "X.shape"
   ]
  },
  {
   "cell_type": "code",
   "execution_count": null,
   "metadata": {},
   "outputs": [],
   "source": []
  },
  {
   "cell_type": "markdown",
   "metadata": {},
   "source": [
    "## model training"
   ]
  },
  {
   "cell_type": "markdown",
   "metadata": {},
   "source": [
    "We will try both Deep learning and Machine learning methods to check for best model"
   ]
  },
  {
   "cell_type": "markdown",
   "metadata": {},
   "source": [
    "First we will try with a simple fully connected Neural Network"
   ]
  },
  {
   "cell_type": "markdown",
   "metadata": {},
   "source": [
    "## Neural Network"
   ]
  },
  {
   "cell_type": "code",
   "execution_count": 43,
   "metadata": {},
   "outputs": [],
   "source": [
    "import torch\n",
    "import torch.nn as nn\n",
    "import torch.optim as optim\n",
    "from sklearn.model_selection import train_test_split\n",
    "from torch.utils.data import DataLoader, TensorDataset\n",
    "import numpy as np\n"
   ]
  },
  {
   "cell_type": "code",
   "execution_count": 129,
   "metadata": {},
   "outputs": [],
   "source": [
    "X_train, X_test, y_train, y_test = train_test_split(X, y, test_size=0.2, random_state=42)"
   ]
  },
  {
   "cell_type": "code",
   "execution_count": null,
   "metadata": {},
   "outputs": [],
   "source": [
    "# y_train.value_counts()"
   ]
  },
  {
   "cell_type": "code",
   "execution_count": 130,
   "metadata": {},
   "outputs": [
    {
     "data": {
      "text/plain": [
       "(494, 384)"
      ]
     },
     "execution_count": 130,
     "metadata": {},
     "output_type": "execute_result"
    }
   ],
   "source": [
    "X_train.shape"
   ]
  },
  {
   "cell_type": "code",
   "execution_count": 131,
   "metadata": {},
   "outputs": [],
   "source": [
    "X_train_tensor = torch.tensor(X_train, dtype=torch.float32)\n",
    "X_test_tensor = torch.tensor(X_test, dtype=torch.float32)\n",
    "# y_train_tensor = torch.tensor(y_train.values, dtype=torch.float32)\n",
    "# y_test_tensor = torch.tensor(y_test.values, dtype=torch.float32)\n",
    "\n",
    "y_train_tensor = torch.tensor(y_train, dtype=torch.float32)\n",
    "y_test_tensor = torch.tensor(y_test, dtype=torch.float32)\n",
    "\n",
    "# Create DataLoader\n",
    "batch_size = 32\n",
    "train_dataset = TensorDataset(X_train_tensor, y_train_tensor)\n",
    "test_dataset = TensorDataset(X_test_tensor, y_test_tensor)\n",
    "train_loader = DataLoader(train_dataset, batch_size=batch_size, shuffle=True)\n",
    "test_loader = DataLoader(test_dataset, batch_size=batch_size, shuffle=False)\n"
   ]
  },
  {
   "cell_type": "code",
   "execution_count": null,
   "metadata": {},
   "outputs": [],
   "source": [
    "# class TextClassifier(nn.Module):\n",
    "#     def __init__(self, input_dim, hidden_dim, output_dim, dropout_rate=0.3, activation_fn=nn.ReLU):\n",
    "#         super(TextClassifier, self).__init__()\n",
    "#         self.fc1 = nn.Linear(input_dim, hidden_dim)\n",
    "#         self.actFunc = activation_fn()\n",
    "#         self.dropout = nn.Dropout(dropout_rate)\n",
    "#         self.fc2 = nn.Linear(hidden_dim, hidden_dim // 2)\n",
    "#         self.actFunc2 = activation_fn()\n",
    "#         self.fc3 = nn.Linear(hidden_dim // 2, output_dim)\n",
    "\n",
    "#     def forward(self, x):\n",
    "#         x = self.fc1(x)\n",
    "#         x = self.actFunc(x)\n",
    "#         x = self.dropout(x)\n",
    "#         x = self.fc2(x)\n",
    "#         x = self.actFunc2(x)\n",
    "#         x = self.fc3(x)\n",
    "#         return x\n",
    "\n",
    "# # Model parameters\n",
    "# input_dim = X_train.shape[1]  # Sentence embedding dimension\n",
    "# hidden_dim = 256\n",
    "# output_dim = 3  # Three classes\n",
    "\n",
    "# model = TextClassifier(input_dim, hidden_dim, output_dim, dropout_rate=0.5, activation_fn=nn.GELU)\n"
   ]
  },
  {
   "cell_type": "code",
   "execution_count": 132,
   "metadata": {},
   "outputs": [],
   "source": [
    "class TextClassifier(nn.Module):\n",
    "    def __init__(self, input_dim, hidden_dim, output_dim, dropout_rate=0.3, activation_fn=nn.ReLU):\n",
    "        super(TextClassifier, self).__init__()\n",
    "        self.fc1 = nn.Linear(input_dim, hidden_dim)\n",
    "        self.actFunc = activation_fn()\n",
    "        self.dropout = nn.Dropout(dropout_rate)\n",
    "        self.fc2 = nn.Linear(hidden_dim, hidden_dim * 2)\n",
    "        self.actFunc2 = activation_fn()\n",
    "        self.fc3 = nn.Linear(hidden_dim*2, hidden_dim * 2)\n",
    "        self.actFunc3 = activation_fn()\n",
    "        self.fc4 = nn.Linear(hidden_dim*2, hidden_dim // 2)\n",
    "        self.actFunc4 = activation_fn()\n",
    "        self.fc5 = nn.Linear(hidden_dim // 2, output_dim)\n",
    "\n",
    "    def forward(self, x):\n",
    "        x = self.fc1(x)\n",
    "        x = self.actFunc(x)\n",
    "        x = self.dropout(x)\n",
    "        x = self.fc2(x)\n",
    "        x = self.actFunc2(x)\n",
    "        x = self.fc3(x)\n",
    "        x = self.actFunc3(x)\n",
    "        x = self.fc4(x)\n",
    "        x = self.actFunc4(x)\n",
    "        x = self.fc5(x)\n",
    "        return x\n",
    "\n",
    "\n",
    "\n"
   ]
  },
  {
   "cell_type": "code",
   "execution_count": null,
   "metadata": {},
   "outputs": [],
   "source": [
    "# import torch\n",
    "# import torch.nn as nn\n",
    "\n",
    "# class TextClassifier(nn.Module):\n",
    "#     def __init__(self, input_dim, hidden_dim, output_dim, dropout_rate=0.3, activation_fn=nn.ReLU):\n",
    "#         super(TextClassifier, self).__init__()\n",
    "        \n",
    "#         self.fc1 = nn.Linear(input_dim, hidden_dim)\n",
    "#         self.bn1 = nn.BatchNorm1d(hidden_dim)  # Batch Normalization\n",
    "#         self.actFunc1 = activation_fn()\n",
    "#         self.dropout1 = nn.Dropout(dropout_rate)\n",
    "\n",
    "#         self.fc2 = nn.Linear(hidden_dim, hidden_dim // 2)\n",
    "#         self.bn2 = nn.BatchNorm1d(hidden_dim // 2)  \n",
    "#         self.actFunc2 = activation_fn()\n",
    "#         self.dropout2 = nn.Dropout(dropout_rate)\n",
    "\n",
    "#         self.fc3 = nn.Linear(hidden_dim // 2, output_dim)  # Final output layer\n",
    "\n",
    "#     def forward(self, x):\n",
    "#         x = self.fc1(x)\n",
    "#         x = self.bn1(x)  # Apply BatchNorm\n",
    "#         x = self.actFunc1(x)\n",
    "#         x = self.dropout1(x)\n",
    "        \n",
    "#         x = self.fc2(x)\n",
    "#         x = self.bn2(x)\n",
    "#         x = self.actFunc2(x)\n",
    "#         x = self.dropout2(x)\n",
    "\n",
    "#         x = self.fc3(x)  # No activation here (raw logits for CrossEntropyLoss)\n",
    "#         return x\n"
   ]
  },
  {
   "cell_type": "code",
   "execution_count": 133,
   "metadata": {},
   "outputs": [],
   "source": [
    "# Model parameters\n",
    "input_dim = X_train.shape[1]  # Sentence embedding dimension\n",
    "hidden_dim = int(input_dim*1.5)\n",
    "output_dim = 3  # Three classes\n",
    "\n",
    "# model = TextClassifier(input_dim, hidden_dim, output_dim, dropout_rate=0.3)\n",
    "model = TextClassifier(input_dim, hidden_dim, output_dim, dropout_rate=0.3, activation_fn=nn.GELU)"
   ]
  },
  {
   "cell_type": "code",
   "execution_count": 134,
   "metadata": {},
   "outputs": [
    {
     "data": {
      "text/plain": [
       "(384, 576)"
      ]
     },
     "execution_count": 134,
     "metadata": {},
     "output_type": "execute_result"
    }
   ],
   "source": [
    "input_dim, hidden_dim"
   ]
  },
  {
   "cell_type": "code",
   "execution_count": 135,
   "metadata": {},
   "outputs": [],
   "source": [
    "criterion = nn.CrossEntropyLoss()\n",
    "optimizer = optim.AdamW(model.parameters(), lr=0.0001, weight_decay=1e-5)"
   ]
  },
  {
   "cell_type": "code",
   "execution_count": 136,
   "metadata": {},
   "outputs": [
    {
     "name": "stdout",
     "output_type": "stream",
     "text": [
      "Epoch 1, Loss: 1.0986\n",
      "Epoch 2, Loss: 1.0959\n",
      "Epoch 3, Loss: 1.0866\n",
      "Epoch 4, Loss: 1.0421\n",
      "Epoch 5, Loss: 0.9007\n",
      "Epoch 6, Loss: 0.7895\n",
      "Epoch 7, Loss: 0.7341\n",
      "Epoch 8, Loss: 0.6655\n",
      "Epoch 9, Loss: 0.6211\n",
      "Epoch 10, Loss: 0.5838\n",
      "Epoch 11, Loss: 0.5270\n",
      "Epoch 12, Loss: 0.4748\n",
      "Epoch 13, Loss: 0.4636\n",
      "Epoch 14, Loss: 0.4315\n",
      "Epoch 15, Loss: 0.4172\n",
      "Epoch 16, Loss: 0.3878\n",
      "Epoch 17, Loss: 0.3847\n",
      "Epoch 18, Loss: 0.3433\n",
      "Epoch 19, Loss: 0.3226\n",
      "Epoch 20, Loss: 0.2923\n",
      "Epoch 21, Loss: 0.2605\n",
      "Epoch 22, Loss: 0.2403\n",
      "Epoch 23, Loss: 0.2267\n",
      "Epoch 24, Loss: 0.1995\n",
      "Epoch 25, Loss: 0.1955\n",
      "Epoch 26, Loss: 0.1706\n",
      "Epoch 27, Loss: 0.1637\n",
      "Epoch 28, Loss: 0.1548\n",
      "Epoch 29, Loss: 0.1404\n",
      "Epoch 30, Loss: 0.1589\n",
      "Epoch 31, Loss: 0.1559\n",
      "Epoch 32, Loss: 0.1264\n",
      "Epoch 33, Loss: 0.1303\n",
      "Epoch 34, Loss: 0.1140\n",
      "Epoch 35, Loss: 0.1010\n",
      "Epoch 36, Loss: 0.1254\n",
      "Epoch 37, Loss: 0.1252\n",
      "Epoch 38, Loss: 0.0977\n",
      "Epoch 39, Loss: 0.0964\n",
      "Epoch 40, Loss: 0.1041\n",
      "Epoch 41, Loss: 0.1021\n",
      "Epoch 42, Loss: 0.0845\n",
      "Epoch 43, Loss: 0.0954\n",
      "Epoch 44, Loss: 0.0756\n",
      "Epoch 45, Loss: 0.0767\n",
      "Epoch 46, Loss: 0.0875\n",
      "Epoch 47, Loss: 0.0857\n",
      "Epoch 48, Loss: 0.0620\n",
      "Epoch 49, Loss: 0.0673\n",
      "Epoch 50, Loss: 0.0574\n",
      "Epoch 51, Loss: 0.0628\n",
      "Epoch 52, Loss: 0.0635\n",
      "Epoch 53, Loss: 0.0756\n",
      "Epoch 54, Loss: 0.0761\n",
      "Epoch 55, Loss: 0.0675\n",
      "Epoch 56, Loss: 0.0581\n",
      "Epoch 57, Loss: 0.0758\n",
      "Epoch 58, Loss: 0.0736\n",
      "Epoch 59, Loss: 0.0698\n",
      "Epoch 60, Loss: 0.0578\n",
      "Epoch 61, Loss: 0.0503\n",
      "Epoch 62, Loss: 0.0740\n",
      "Epoch 63, Loss: 0.0583\n",
      "Epoch 64, Loss: 0.0838\n",
      "Epoch 65, Loss: 0.0842\n",
      "Epoch 66, Loss: 0.0663\n",
      "Epoch 67, Loss: 0.0755\n",
      "Epoch 68, Loss: 0.0737\n",
      "Epoch 69, Loss: 0.0499\n",
      "Epoch 70, Loss: 0.0646\n",
      "Epoch 71, Loss: 0.0562\n",
      "Epoch 72, Loss: 0.0773\n",
      "Epoch 73, Loss: 0.0673\n",
      "Epoch 74, Loss: 0.0545\n",
      "Epoch 75, Loss: 0.0631\n",
      "Epoch 76, Loss: 0.0528\n",
      "Epoch 77, Loss: 0.0502\n",
      "Epoch 78, Loss: 0.0582\n",
      "Epoch 79, Loss: 0.0705\n",
      "Epoch 80, Loss: 0.0566\n",
      "Epoch 81, Loss: 0.0734\n",
      "Epoch 82, Loss: 0.0754\n",
      "Epoch 83, Loss: 0.0751\n",
      "Epoch 84, Loss: 0.0648\n",
      "Epoch 85, Loss: 0.0572\n",
      "Epoch 86, Loss: 0.0550\n",
      "Epoch 87, Loss: 0.0437\n",
      "Epoch 88, Loss: 0.0568\n",
      "Epoch 89, Loss: 0.0570\n",
      "Epoch 90, Loss: 0.0740\n",
      "Epoch 91, Loss: 0.0580\n",
      "Epoch 92, Loss: 0.0590\n",
      "Epoch 93, Loss: 0.0384\n",
      "Epoch 94, Loss: 0.0453\n",
      "Epoch 95, Loss: 0.0565\n",
      "Epoch 96, Loss: 0.0647\n",
      "Epoch 97, Loss: 0.0555\n",
      "Epoch 98, Loss: 0.0697\n",
      "Epoch 99, Loss: 0.0435\n",
      "Epoch 100, Loss: 0.0312\n",
      "Epoch 101, Loss: 0.0526\n",
      "Epoch 102, Loss: 0.0332\n",
      "Epoch 103, Loss: 0.0539\n",
      "Epoch 104, Loss: 0.0443\n",
      "Epoch 105, Loss: 0.0404\n",
      "Epoch 106, Loss: 0.0557\n",
      "Epoch 107, Loss: 0.0439\n",
      "Epoch 108, Loss: 0.0500\n",
      "Epoch 109, Loss: 0.0698\n",
      "Epoch 110, Loss: 0.0316\n",
      "Epoch 111, Loss: 0.0544\n",
      "Epoch 112, Loss: 0.0494\n",
      "Epoch 113, Loss: 0.0414\n",
      "Epoch 114, Loss: 0.0603\n",
      "Epoch 115, Loss: 0.0478\n",
      "Epoch 116, Loss: 0.0527\n",
      "Epoch 117, Loss: 0.0436\n",
      "Epoch 118, Loss: 0.0563\n",
      "Epoch 119, Loss: 0.0542\n",
      "Epoch 120, Loss: 0.0423\n",
      "Epoch 121, Loss: 0.0506\n",
      "Epoch 122, Loss: 0.0418\n",
      "Epoch 123, Loss: 0.0386\n",
      "Epoch 124, Loss: 0.0477\n",
      "Epoch 125, Loss: 0.0419\n",
      "Epoch 126, Loss: 0.0444\n",
      "Epoch 127, Loss: 0.0538\n",
      "Epoch 128, Loss: 0.0354\n",
      "Epoch 129, Loss: 0.0367\n",
      "Epoch 130, Loss: 0.0553\n",
      "Epoch 131, Loss: 0.0644\n",
      "Epoch 132, Loss: 0.0388\n",
      "Epoch 133, Loss: 0.0499\n",
      "Epoch 134, Loss: 0.0412\n",
      "Epoch 135, Loss: 0.0496\n",
      "Epoch 136, Loss: 0.0390\n",
      "Epoch 137, Loss: 0.0423\n",
      "Epoch 138, Loss: 0.0456\n",
      "Epoch 139, Loss: 0.0568\n",
      "Epoch 140, Loss: 0.0508\n",
      "Epoch 141, Loss: 0.0473\n",
      "Epoch 142, Loss: 0.0425\n",
      "Epoch 143, Loss: 0.0507\n",
      "Epoch 144, Loss: 0.0490\n",
      "Epoch 145, Loss: 0.0579\n",
      "Epoch 146, Loss: 0.0332\n",
      "Epoch 147, Loss: 0.0317\n",
      "Epoch 148, Loss: 0.0390\n",
      "Epoch 149, Loss: 0.0485\n",
      "Epoch 150, Loss: 0.0387\n",
      "Epoch 151, Loss: 0.0537\n",
      "Epoch 152, Loss: 0.0908\n",
      "Epoch 153, Loss: 0.0503\n",
      "Epoch 154, Loss: 0.0446\n",
      "Epoch 155, Loss: 0.0438\n",
      "Epoch 156, Loss: 0.0402\n",
      "Epoch 157, Loss: 0.0556\n",
      "Epoch 158, Loss: 0.0502\n",
      "Epoch 159, Loss: 0.0490\n",
      "Epoch 160, Loss: 0.0365\n",
      "Epoch 161, Loss: 0.0513\n",
      "Epoch 162, Loss: 0.0423\n",
      "Epoch 163, Loss: 0.0311\n",
      "Epoch 164, Loss: 0.0491\n",
      "Epoch 165, Loss: 0.0430\n",
      "Epoch 166, Loss: 0.0648\n",
      "Epoch 167, Loss: 0.0487\n",
      "Epoch 168, Loss: 0.0527\n",
      "Epoch 169, Loss: 0.0904\n",
      "Epoch 170, Loss: 0.0588\n",
      "Epoch 171, Loss: 0.0375\n",
      "Epoch 172, Loss: 0.0373\n",
      "Epoch 173, Loss: 0.0363\n",
      "Epoch 174, Loss: 0.0388\n",
      "Epoch 175, Loss: 0.0481\n",
      "Epoch 176, Loss: 0.0491\n",
      "Epoch 177, Loss: 0.0533\n",
      "Epoch 178, Loss: 0.0771\n",
      "Epoch 179, Loss: 0.0361\n",
      "Epoch 180, Loss: 0.0406\n",
      "Epoch 181, Loss: 0.0372\n",
      "Epoch 182, Loss: 0.0581\n",
      "Epoch 183, Loss: 0.0983\n",
      "Epoch 184, Loss: 0.0482\n",
      "Epoch 185, Loss: 0.0413\n",
      "Epoch 186, Loss: 0.0458\n",
      "Epoch 187, Loss: 0.0431\n",
      "Epoch 188, Loss: 0.0366\n",
      "Epoch 189, Loss: 0.0459\n",
      "Epoch 190, Loss: 0.0386\n",
      "Epoch 191, Loss: 0.0512\n",
      "Epoch 192, Loss: 0.0355\n",
      "Epoch 193, Loss: 0.0391\n",
      "Epoch 194, Loss: 0.0532\n",
      "Epoch 195, Loss: 0.0405\n",
      "Epoch 196, Loss: 0.0473\n",
      "Epoch 197, Loss: 0.0451\n",
      "Epoch 198, Loss: 0.0556\n",
      "Epoch 199, Loss: 0.0366\n",
      "Epoch 200, Loss: 0.0572\n",
      "Epoch 201, Loss: 0.0333\n",
      "Epoch 202, Loss: 0.0355\n",
      "Epoch 203, Loss: 0.0312\n",
      "Epoch 204, Loss: 0.0440\n",
      "Epoch 205, Loss: 0.0471\n",
      "Epoch 206, Loss: 0.0438\n",
      "Epoch 207, Loss: 0.0541\n",
      "Epoch 208, Loss: 0.0424\n",
      "Epoch 209, Loss: 0.0512\n",
      "Epoch 210, Loss: 0.0394\n",
      "Epoch 211, Loss: 0.0446\n",
      "Epoch 212, Loss: 0.0404\n",
      "Epoch 213, Loss: 0.0381\n",
      "Epoch 214, Loss: 0.0567\n",
      "Epoch 215, Loss: 0.0372\n",
      "Epoch 216, Loss: 0.0516\n",
      "Epoch 217, Loss: 0.0474\n",
      "Epoch 218, Loss: 0.0414\n",
      "Epoch 219, Loss: 0.0354\n",
      "Epoch 220, Loss: 0.0393\n",
      "Epoch 221, Loss: 0.0311\n",
      "Epoch 222, Loss: 0.0321\n",
      "Epoch 223, Loss: 0.0322\n",
      "Epoch 224, Loss: 0.0336\n",
      "Epoch 225, Loss: 0.0435\n",
      "Epoch 226, Loss: 0.0676\n",
      "Epoch 227, Loss: 0.0412\n",
      "Epoch 228, Loss: 0.0537\n",
      "Epoch 229, Loss: 0.0382\n",
      "Epoch 230, Loss: 0.0353\n",
      "Epoch 231, Loss: 0.0418\n",
      "Epoch 232, Loss: 0.0343\n",
      "Epoch 233, Loss: 0.0603\n",
      "Epoch 234, Loss: 0.0592\n",
      "Epoch 235, Loss: 0.0332\n",
      "Epoch 236, Loss: 0.0354\n",
      "Epoch 237, Loss: 0.0263\n",
      "Epoch 238, Loss: 0.0354\n",
      "Epoch 239, Loss: 0.0454\n",
      "Epoch 240, Loss: 0.0428\n",
      "Epoch 241, Loss: 0.0479\n",
      "Epoch 242, Loss: 0.0422\n",
      "Epoch 243, Loss: 0.0307\n",
      "Epoch 244, Loss: 0.0328\n",
      "Epoch 245, Loss: 0.0466\n",
      "Epoch 246, Loss: 0.0546\n",
      "Epoch 247, Loss: 0.0468\n",
      "Epoch 248, Loss: 0.0505\n",
      "Epoch 249, Loss: 0.0297\n",
      "Epoch 250, Loss: 0.0417\n",
      "Epoch 251, Loss: 0.0421\n",
      "Epoch 252, Loss: 0.0412\n",
      "Epoch 253, Loss: 0.0583\n",
      "Epoch 254, Loss: 0.0576\n",
      "Epoch 255, Loss: 0.0412\n",
      "Epoch 256, Loss: 0.0381\n",
      "Epoch 257, Loss: 0.0348\n",
      "Epoch 258, Loss: 0.0468\n",
      "Epoch 259, Loss: 0.0449\n",
      "Epoch 260, Loss: 0.0286\n",
      "Epoch 261, Loss: 0.0309\n",
      "Epoch 262, Loss: 0.0433\n",
      "Epoch 263, Loss: 0.0373\n",
      "Epoch 264, Loss: 0.0351\n",
      "Epoch 265, Loss: 0.0328\n",
      "Epoch 266, Loss: 0.0279\n",
      "Epoch 267, Loss: 0.0335\n",
      "Epoch 268, Loss: 0.0377\n",
      "Epoch 269, Loss: 0.0452\n",
      "Epoch 270, Loss: 0.0511\n",
      "Epoch 271, Loss: 0.0330\n",
      "Epoch 272, Loss: 0.0413\n",
      "Epoch 273, Loss: 0.0323\n",
      "Epoch 274, Loss: 0.0418\n",
      "Epoch 275, Loss: 0.0392\n",
      "Epoch 276, Loss: 0.0371\n",
      "Epoch 277, Loss: 0.0456\n",
      "Epoch 278, Loss: 0.0345\n",
      "Epoch 279, Loss: 0.0257\n",
      "Epoch 280, Loss: 0.0484\n",
      "Epoch 281, Loss: 0.0385\n",
      "Epoch 282, Loss: 0.0384\n",
      "Epoch 283, Loss: 0.0525\n",
      "Epoch 284, Loss: 0.0342\n",
      "Epoch 285, Loss: 0.0322\n",
      "Epoch 286, Loss: 0.0295\n",
      "Epoch 287, Loss: 0.0388\n",
      "Epoch 288, Loss: 0.0389\n",
      "Epoch 289, Loss: 0.0361\n",
      "Epoch 290, Loss: 0.0390\n",
      "Epoch 291, Loss: 0.0296\n",
      "Epoch 292, Loss: 0.0403\n",
      "Epoch 293, Loss: 0.0284\n",
      "Epoch 294, Loss: 0.0400\n",
      "Epoch 295, Loss: 0.0461\n",
      "Epoch 296, Loss: 0.0384\n",
      "Epoch 297, Loss: 0.0296\n",
      "Epoch 298, Loss: 0.0420\n",
      "Epoch 299, Loss: 0.0382\n",
      "Epoch 300, Loss: 0.0292\n",
      "Epoch 301, Loss: 0.0305\n",
      "Epoch 302, Loss: 0.0347\n",
      "Epoch 303, Loss: 0.0445\n",
      "Epoch 304, Loss: 0.0321\n",
      "Epoch 305, Loss: 0.0400\n",
      "Epoch 306, Loss: 0.0284\n",
      "Epoch 307, Loss: 0.0319\n",
      "Epoch 308, Loss: 0.0315\n",
      "Epoch 309, Loss: 0.0326\n",
      "Epoch 310, Loss: 0.0405\n",
      "Epoch 311, Loss: 0.0486\n",
      "Epoch 312, Loss: 0.0552\n",
      "Epoch 313, Loss: 0.0357\n",
      "Epoch 314, Loss: 0.0433\n",
      "Epoch 315, Loss: 0.0425\n",
      "Epoch 316, Loss: 0.0469\n",
      "Epoch 317, Loss: 0.0350\n",
      "Epoch 318, Loss: 0.0345\n",
      "Epoch 319, Loss: 0.0338\n",
      "Epoch 320, Loss: 0.0381\n",
      "Epoch 321, Loss: 0.0374\n",
      "Epoch 322, Loss: 0.0330\n",
      "Epoch 323, Loss: 0.0394\n",
      "Epoch 324, Loss: 0.0352\n",
      "Epoch 325, Loss: 0.0370\n",
      "Epoch 326, Loss: 0.0297\n",
      "Epoch 327, Loss: 0.0370\n",
      "Epoch 328, Loss: 0.0347\n",
      "Epoch 329, Loss: 0.0362\n",
      "Epoch 330, Loss: 0.0271\n",
      "Epoch 331, Loss: 0.0456\n",
      "Epoch 332, Loss: 0.0329\n",
      "Epoch 333, Loss: 0.0426\n",
      "Epoch 334, Loss: 0.0429\n",
      "Epoch 335, Loss: 0.0296\n",
      "Epoch 336, Loss: 0.0389\n",
      "Epoch 337, Loss: 0.0769\n",
      "Epoch 338, Loss: 0.0282\n",
      "Epoch 339, Loss: 0.0353\n",
      "Epoch 340, Loss: 0.0302\n",
      "Epoch 341, Loss: 0.0294\n",
      "Epoch 342, Loss: 0.0450\n",
      "Epoch 343, Loss: 0.0466\n",
      "Epoch 344, Loss: 0.0369\n",
      "Epoch 345, Loss: 0.0406\n",
      "Epoch 346, Loss: 0.0411\n",
      "Epoch 347, Loss: 0.0377\n",
      "Epoch 348, Loss: 0.0314\n",
      "Epoch 349, Loss: 0.0310\n",
      "Epoch 350, Loss: 0.0389\n",
      "Epoch 351, Loss: 0.0380\n",
      "Epoch 352, Loss: 0.0382\n",
      "Epoch 353, Loss: 0.0278\n",
      "Epoch 354, Loss: 0.0299\n",
      "Epoch 355, Loss: 0.0447\n",
      "Epoch 356, Loss: 0.0378\n",
      "Epoch 357, Loss: 0.0359\n",
      "Epoch 358, Loss: 0.0367\n",
      "Epoch 359, Loss: 0.0392\n",
      "Epoch 360, Loss: 0.0394\n",
      "Epoch 361, Loss: 0.0303\n",
      "Epoch 362, Loss: 0.0327\n",
      "Epoch 363, Loss: 0.0368\n",
      "Epoch 364, Loss: 0.0498\n",
      "Epoch 365, Loss: 0.0383\n",
      "Epoch 366, Loss: 0.0380\n",
      "Epoch 367, Loss: 0.0318\n",
      "Epoch 368, Loss: 0.0401\n",
      "Epoch 369, Loss: 0.0357\n",
      "Epoch 370, Loss: 0.0299\n",
      "Epoch 371, Loss: 0.0404\n",
      "Epoch 372, Loss: 0.0364\n",
      "Epoch 373, Loss: 0.0281\n",
      "Epoch 374, Loss: 0.0360\n",
      "Epoch 375, Loss: 0.0362\n",
      "Epoch 376, Loss: 0.0363\n",
      "Epoch 377, Loss: 0.0311\n",
      "Epoch 378, Loss: 0.0349\n",
      "Epoch 379, Loss: 0.0426\n",
      "Epoch 380, Loss: 0.0340\n",
      "Epoch 381, Loss: 0.0420\n",
      "Epoch 382, Loss: 0.0466\n",
      "Epoch 383, Loss: 0.0351\n",
      "Epoch 384, Loss: 0.0264\n",
      "Epoch 385, Loss: 0.0331\n",
      "Epoch 386, Loss: 0.0327\n",
      "Epoch 387, Loss: 0.0371\n",
      "Epoch 388, Loss: 0.0339\n",
      "Epoch 389, Loss: 0.0334\n",
      "Epoch 390, Loss: 0.0361\n",
      "Epoch 391, Loss: 0.0265\n",
      "Epoch 392, Loss: 0.0320\n",
      "Epoch 393, Loss: 0.0339\n",
      "Epoch 394, Loss: 0.0323\n",
      "Epoch 395, Loss: 0.0331\n",
      "Epoch 396, Loss: 0.0351\n",
      "Epoch 397, Loss: 0.0365\n",
      "Epoch 398, Loss: 0.0306\n",
      "Epoch 399, Loss: 0.0267\n",
      "Epoch 400, Loss: 0.0355\n",
      "Epoch 401, Loss: 0.0407\n",
      "Epoch 402, Loss: 0.0332\n",
      "Epoch 403, Loss: 0.0383\n",
      "Epoch 404, Loss: 0.0263\n",
      "Epoch 405, Loss: 0.0279\n",
      "Epoch 406, Loss: 0.0270\n",
      "Epoch 407, Loss: 0.0344\n",
      "Epoch 408, Loss: 0.0349\n",
      "Epoch 409, Loss: 0.0378\n",
      "Epoch 410, Loss: 0.0316\n",
      "Epoch 411, Loss: 0.0266\n",
      "Epoch 412, Loss: 0.0249\n",
      "Epoch 413, Loss: 0.0337\n",
      "Epoch 414, Loss: 0.0333\n",
      "Epoch 415, Loss: 0.0310\n",
      "Epoch 416, Loss: 0.0347\n",
      "Epoch 417, Loss: 0.0234\n",
      "Epoch 418, Loss: 0.0322\n",
      "Epoch 419, Loss: 0.0359\n",
      "Epoch 420, Loss: 0.0372\n",
      "Epoch 421, Loss: 0.0274\n",
      "Epoch 422, Loss: 0.0296\n",
      "Epoch 423, Loss: 0.0234\n",
      "Epoch 424, Loss: 0.0317\n",
      "Epoch 425, Loss: 0.0316\n",
      "Epoch 426, Loss: 0.0257\n",
      "Epoch 427, Loss: 0.0346\n",
      "Epoch 428, Loss: 0.0320\n",
      "Epoch 429, Loss: 0.0504\n",
      "Epoch 430, Loss: 0.0316\n",
      "Epoch 431, Loss: 0.0369\n",
      "Epoch 432, Loss: 0.0296\n",
      "Epoch 433, Loss: 0.0297\n",
      "Epoch 434, Loss: 0.0305\n",
      "Epoch 435, Loss: 0.0253\n",
      "Epoch 436, Loss: 0.0294\n",
      "Epoch 437, Loss: 0.0326\n",
      "Epoch 438, Loss: 0.0257\n",
      "Epoch 439, Loss: 0.0281\n",
      "Epoch 440, Loss: 0.0279\n",
      "Epoch 441, Loss: 0.0273\n",
      "Epoch 442, Loss: 0.0272\n",
      "Epoch 443, Loss: 0.0329\n",
      "Epoch 444, Loss: 0.0257\n",
      "Epoch 445, Loss: 0.0278\n",
      "Epoch 446, Loss: 0.0295\n",
      "Epoch 447, Loss: 0.0268\n",
      "Epoch 448, Loss: 0.0358\n",
      "Epoch 449, Loss: 0.0328\n",
      "Epoch 450, Loss: 0.0368\n",
      "Epoch 451, Loss: 0.0258\n",
      "Epoch 452, Loss: 0.0237\n",
      "Epoch 453, Loss: 0.0304\n",
      "Epoch 454, Loss: 0.0289\n",
      "Epoch 455, Loss: 0.0284\n",
      "Epoch 456, Loss: 0.0319\n",
      "Epoch 457, Loss: 0.0268\n",
      "Epoch 458, Loss: 0.0239\n",
      "Epoch 459, Loss: 0.0251\n",
      "Epoch 460, Loss: 0.0312\n",
      "Epoch 461, Loss: 0.0281\n",
      "Epoch 462, Loss: 0.0303\n",
      "Epoch 463, Loss: 0.0341\n",
      "Epoch 464, Loss: 0.0263\n",
      "Epoch 465, Loss: 0.0289\n",
      "Epoch 466, Loss: 0.0244\n",
      "Epoch 467, Loss: 0.0245\n",
      "Epoch 468, Loss: 0.0253\n",
      "Epoch 469, Loss: 0.0234\n",
      "Epoch 470, Loss: 0.0252\n",
      "Epoch 471, Loss: 0.0226\n",
      "Epoch 472, Loss: 0.0367\n",
      "Epoch 473, Loss: 0.0311\n",
      "Epoch 474, Loss: 0.0322\n",
      "Epoch 475, Loss: 0.0469\n",
      "Epoch 476, Loss: 0.0341\n",
      "Epoch 477, Loss: 0.0398\n",
      "Epoch 478, Loss: 0.0280\n",
      "Epoch 479, Loss: 0.0260\n",
      "Epoch 480, Loss: 0.0274\n",
      "Epoch 481, Loss: 0.0313\n",
      "Epoch 482, Loss: 0.0311\n",
      "Epoch 483, Loss: 0.0329\n",
      "Epoch 484, Loss: 0.0375\n",
      "Epoch 485, Loss: 0.0400\n",
      "Epoch 486, Loss: 0.0296\n",
      "Epoch 487, Loss: 0.0234\n",
      "Epoch 488, Loss: 0.0236\n",
      "Epoch 489, Loss: 0.0256\n",
      "Epoch 490, Loss: 0.0269\n",
      "Epoch 491, Loss: 0.0274\n",
      "Epoch 492, Loss: 0.0216\n",
      "Epoch 493, Loss: 0.0327\n",
      "Epoch 494, Loss: 0.0288\n",
      "Epoch 495, Loss: 0.0258\n",
      "Epoch 496, Loss: 0.0267\n",
      "Epoch 497, Loss: 0.0235\n",
      "Epoch 498, Loss: 0.0241\n",
      "Epoch 499, Loss: 0.0236\n",
      "Epoch 500, Loss: 0.0232\n"
     ]
    }
   ],
   "source": [
    "num_epochs = 500  # Increase epochs for better learning\n",
    "total_loss_list = []\n",
    "\n",
    "for epoch in range(num_epochs):\n",
    "    model.train()\n",
    "    total_loss = 0\n",
    "    \n",
    "    for X_batch, y_batch in train_loader:\n",
    "        optimizer.zero_grad()\n",
    "        outputs = model(X_batch)\n",
    "        # loss = criterion(outputs, torch.max(y_batch, 1)[1])  # Convert one-hot to class indices\n",
    "\n",
    "        loss = criterion(outputs, y_batch.to(torch.long))  # Convert one-hot to class indices\n",
    "\n",
    "        \n",
    "\n",
    "        loss.backward()\n",
    "        optimizer.step()\n",
    "        total_loss += loss.item()\n",
    "        \n",
    "    avg_loss = total_loss / len(train_loader)\n",
    "    total_loss_list.append(avg_loss)  # Store average loss for this epoch\n",
    "    \n",
    "    print(f\"Epoch {epoch+1}, Loss: {total_loss/len(train_loader):.4f}\")\n"
   ]
  },
  {
   "cell_type": "code",
   "execution_count": null,
   "metadata": {},
   "outputs": [],
   "source": [
    "# model.eval()\n",
    "# correct, total = 0, 0\n",
    "\n",
    "# with torch.no_grad():\n",
    "#     for X_batch, y_batch in test_loader:\n",
    "#         outputs = model(X_batch)\n",
    "#         predicted = torch.argmax(outputs, axis=1)\n",
    "#         actual = torch.argmax(y_batch, axis=1)\n",
    "#         correct += (predicted == actual).sum().item()\n",
    "#         total += y_batch.size(0)\n",
    "\n",
    "# accuracy = correct / total\n",
    "# print(f\"Test Accuracy: {accuracy:.4f}\")\n"
   ]
  },
  {
   "cell_type": "code",
   "execution_count": 139,
   "metadata": {},
   "outputs": [
    {
     "name": "stdout",
     "output_type": "stream",
     "text": [
      "Test Accuracy: 0.7258\n"
     ]
    }
   ],
   "source": [
    "model.eval()\n",
    "correct, total = 0, 0\n",
    "\n",
    "with torch.no_grad():\n",
    "    for X_batch, y_batch in test_loader:\n",
    "        outputs = model(X_batch)  # Get raw logits\n",
    "        predicted = torch.argmax(outputs, dim=1)  # Get predicted class index\n",
    "\n",
    "        # No need for argmax on y_batch since it's already class indices\n",
    "        correct += (predicted == y_batch).sum().item()\n",
    "        total += y_batch.size(0)\n",
    "\n",
    "accuracy = correct / total\n",
    "print(f\"Test Accuracy: {accuracy:.4f}\")\n"
   ]
  },
  {
   "cell_type": "code",
   "execution_count": null,
   "metadata": {},
   "outputs": [],
   "source": []
  },
  {
   "cell_type": "code",
   "execution_count": 146,
   "metadata": {},
   "outputs": [
    {
     "name": "stdout",
     "output_type": "stream",
     "text": [
      "ONNX model has been saved to model/embedding-NN-model.onnx\n"
     ]
    }
   ],
   "source": [
    "# saving the model\n",
    "\n",
    "onnx_model_path = \"model/embedding-NN-model.onnx\"\n",
    "\n",
    "dummy_input = torch.randn(1, input_dim)\n",
    "\n",
    "torch.onnx.export(model,\n",
    "                  dummy_input,\n",
    "                  onnx_model_path,\n",
    "                  input_names=[\"input\"],\n",
    "                  output_names=[\"output\"],\n",
    "                  opset_version=11)\n",
    "\n",
    "print(f\"ONNX model has been saved to {onnx_model_path}\")"
   ]
  },
  {
   "cell_type": "markdown",
   "metadata": {},
   "source": [
    "<h3>Observations :</h3>\n",
    "<br>\n",
    "We got around 65-71 % accuracy with the neural network model"
   ]
  },
  {
   "cell_type": "code",
   "execution_count": 66,
   "metadata": {},
   "outputs": [
    {
     "data": {
      "text/plain": [
       "500"
      ]
     },
     "execution_count": 66,
     "metadata": {},
     "output_type": "execute_result"
    }
   ],
   "source": [
    "len(total_loss_list)"
   ]
  },
  {
   "cell_type": "code",
   "execution_count": 67,
   "metadata": {},
   "outputs": [
    {
     "data": {
      "image/png": "[encoded data removed]",
      "text/plain": [
       "<Figure size 800x500 with 1 Axes>"
      ]
     },
     "metadata": {},
     "output_type": "display_data"
    }
   ],
   "source": [
    "last_epochs = num_epochs\n",
    "\n",
    "plt.figure(figsize=(8, 5))\n",
    "plt.plot(range(1, num_epochs-(num_epochs-last_epochs) + 1), total_loss_list[-last_epochs:], marker='o', linestyle='-', color='b')\n",
    "plt.xlabel('Epochs')\n",
    "plt.ylabel('Loss')\n",
    "plt.title('Training Loss Over Epochs')\n",
    "plt.grid()\n",
    "plt.show()\n"
   ]
  },
  {
   "cell_type": "code",
   "execution_count": 68,
   "metadata": {},
   "outputs": [
    {
     "data": {
      "image/png": "[encoded data removed]",
      "text/plain": [
       "<Figure size 800x500 with 1 Axes>"
      ]
     },
     "metadata": {},
     "output_type": "display_data"
    }
   ],
   "source": [
    "last_epochs = 300\n",
    "\n",
    "plt.figure(figsize=(8, 5))\n",
    "plt.plot(range(1, num_epochs-(num_epochs-last_epochs) + 1), total_loss_list[-last_epochs:], marker='o', linestyle='-', color='b')\n",
    "plt.xlabel('Epochs')\n",
    "plt.ylabel('Loss')\n",
    "plt.title('Training Loss Over Epochs')\n",
    "plt.grid()\n",
    "plt.show()\n"
   ]
  },
  {
   "cell_type": "markdown",
   "metadata": {},
   "source": [
    "## ML models"
   ]
  },
  {
   "cell_type": "code",
   "execution_count": 69,
   "metadata": {},
   "outputs": [],
   "source": [
    "from sklearn.metrics import confusion_matrix, classification_report"
   ]
  },
  {
   "cell_type": "code",
   "execution_count": 70,
   "metadata": {},
   "outputs": [],
   "source": [
    "X = df_balanced['body']\n",
    "y = df_balanced[[\"class_Negative\",\"class_Neutral\", \"class_Positive\"]]\n",
    "y = np.argmax(y.values, axis=1)"
   ]
  },
  {
   "cell_type": "code",
   "execution_count": 71,
   "metadata": {},
   "outputs": [
    {
     "data": {
      "text/plain": [
       "(618, 384)"
      ]
     },
     "execution_count": 71,
     "metadata": {},
     "output_type": "execute_result"
    }
   ],
   "source": [
    "X = emdeddingModel.encode(X)\n",
    "X.shape"
   ]
  },
  {
   "cell_type": "code",
   "execution_count": 72,
   "metadata": {},
   "outputs": [],
   "source": [
    "X_train, X_test, y_train, y_test = train_test_split(X, y, test_size=0.2, random_state=42)\n"
   ]
  },
  {
   "cell_type": "code",
   "execution_count": 73,
   "metadata": {},
   "outputs": [
    {
     "name": "stdout",
     "output_type": "stream",
     "text": [
      "Model Accuracy: 0.65\n"
     ]
    },
    {
     "name": "stderr",
     "output_type": "stream",
     "text": [
      "/home/heramb96/miniconda3/envs/glynac/lib/python3.13/site-packages/sklearn/linear_model/_logistic.py:1256: FutureWarning: 'multi_class' was deprecated in version 1.5 and will be removed in 1.7. Use OneVsRestClassifier(LogisticRegression(..)) instead. Leave it to its default value to avoid this warning.\n",
      "  warnings.warn(\n"
     ]
    }
   ],
   "source": [
    "from sklearn.linear_model import LogisticRegression\n",
    "from sklearn.metrics import accuracy_score, precision_score, recall_score\n",
    "\n",
    "# Train a logistic regression model\n",
    "model = LogisticRegression(multi_class='ovr', solver='liblinear')\n",
    "model.fit(X_train, y_train)\n",
    "\n",
    "# Predictions\n",
    "y_pred = model.predict(X_test)\n",
    "\n",
    "# Evaluate\n",
    "accuracy = accuracy_score(y_test, y_pred)\n",
    "print(f\"Model Accuracy: {accuracy:.2f}\")\n"
   ]
  },
  {
   "cell_type": "code",
   "execution_count": 74,
   "metadata": {},
   "outputs": [
    {
     "data": {
      "text/plain": [
       "array([[30,  5,  2],\n",
       "       [14, 14,  8],\n",
       "       [ 5,  9, 37]])"
      ]
     },
     "execution_count": 74,
     "metadata": {},
     "output_type": "execute_result"
    }
   ],
   "source": [
    "confusion_matrix(y_test, y_pred)\n"
   ]
  },
  {
   "cell_type": "code",
   "execution_count": 75,
   "metadata": {},
   "outputs": [],
   "source": [
    "precision = precision_score(y_test, y_pred, average=None)  # Per-class precision\n",
    "recall = recall_score(y_test, y_pred, average=None) "
   ]
  },
  {
   "cell_type": "code",
   "execution_count": 76,
   "metadata": {},
   "outputs": [
    {
     "data": {
      "text/plain": [
       "array([0.6122449 , 0.5       , 0.78723404])"
      ]
     },
     "execution_count": 76,
     "metadata": {},
     "output_type": "execute_result"
    }
   ],
   "source": [
    "precision"
   ]
  },
  {
   "cell_type": "code",
   "execution_count": 77,
   "metadata": {},
   "outputs": [
    {
     "data": {
      "text/plain": [
       "array([0.81081081, 0.38888889, 0.7254902 ])"
      ]
     },
     "execution_count": 77,
     "metadata": {},
     "output_type": "execute_result"
    }
   ],
   "source": [
    "recall"
   ]
  },
  {
   "cell_type": "markdown",
   "metadata": {},
   "source": [
    "<h3>Observations :</h3>\n",
    "<br>\n",
    "we did not get good accuracy score with logistic regression model"
   ]
  },
  {
   "cell_type": "code",
   "execution_count": null,
   "metadata": {},
   "outputs": [],
   "source": []
  },
  {
   "cell_type": "code",
   "execution_count": 78,
   "metadata": {},
   "outputs": [
    {
     "name": "stdout",
     "output_type": "stream",
     "text": [
      "Random Forest Accuracy: 0.67\n"
     ]
    }
   ],
   "source": [
    "from sklearn.ensemble import RandomForestClassifier\n",
    "\n",
    "rf_model = RandomForestClassifier(n_estimators=100, random_state=42)\n",
    "rf_model.fit(X_train, y_train)\n",
    "\n",
    "y_pred_rf = rf_model.predict(X_test)\n",
    "accuracy_rf = accuracy_score(y_test, y_pred_rf)\n",
    "print(f\"Random Forest Accuracy: {accuracy_rf:.2f}\")\n"
   ]
  },
  {
   "cell_type": "markdown",
   "metadata": {},
   "source": [
    "<h3>Observations :</h3>\n",
    "<br>\n",
    "The results we got with Random Forest classifier are good and on par with the NN model"
   ]
  },
  {
   "cell_type": "code",
   "execution_count": null,
   "metadata": {},
   "outputs": [],
   "source": []
  },
  {
   "cell_type": "code",
   "execution_count": null,
   "metadata": {},
   "outputs": [],
   "source": []
  },
  {
   "cell_type": "code",
   "execution_count": null,
   "metadata": {},
   "outputs": [],
   "source": []
  },
  {
   "cell_type": "code",
   "execution_count": null,
   "metadata": {},
   "outputs": [],
   "source": []
  },
  {
   "cell_type": "markdown",
   "metadata": {},
   "source": [
    "#  TF-IDF based training"
   ]
  },
  {
   "cell_type": "markdown",
   "metadata": {},
   "source": [
    "Now we will use the traditional NLP method for sentiment analysis"
   ]
  },
  {
   "cell_type": "code",
   "execution_count": 79,
   "metadata": {},
   "outputs": [
    {
     "name": "stderr",
     "output_type": "stream",
     "text": [
      "[nltk_data] Downloading package wordnet to /home/heramb96/nltk_data...\n",
      "[nltk_data]   Package wordnet is already up-to-date!\n",
      "[nltk_data] Downloading package punkt to /home/heramb96/nltk_data...\n",
      "[nltk_data]   Package punkt is already up-to-date!\n",
      "[nltk_data] Downloading package stopwords to\n",
      "[nltk_data]     /home/heramb96/nltk_data...\n",
      "[nltk_data]   Package stopwords is already up-to-date!\n",
      "[nltk_data] Downloading package averaged_perceptron_tagger to\n",
      "[nltk_data]     /home/heramb96/nltk_data...\n",
      "[nltk_data]   Package averaged_perceptron_tagger is already up-to-\n",
      "[nltk_data]       date!\n",
      "[nltk_data] Downloading package omw-1.4 to /home/heramb96/nltk_data...\n",
      "[nltk_data]   Package omw-1.4 is already up-to-date!\n"
     ]
    }
   ],
   "source": [
    "\n",
    "import string\n",
    "import re\n",
    "import nltk\n",
    "\n",
    "from sklearn.feature_extraction.text import TfidfVectorizer\n",
    "\n",
    "nltk.download('wordnet')\n",
    "nltk.download('punkt')\n",
    "nltk.download('stopwords')\n",
    "nltk.download('averaged_perceptron_tagger')\n",
    "nltk.download('omw-1.4')\n",
    "\n",
    "from nltk.corpus import stopwords\n",
    "from nltk.stem import LancasterStemmer"
   ]
  },
  {
   "cell_type": "code",
   "execution_count": 80,
   "metadata": {},
   "outputs": [],
   "source": [
    "def clean_text(text):\n",
    "    # Remove URLs\n",
    "    text = re.sub(r'https?://\\S+|www\\.\\S+', '', text)\n",
    "    # Remove HTML tags\n",
    "    text = re.sub(r'<.*?>', '', text)\n",
    "    # Remove punctuation\n",
    "    text = re.sub(f'[{string.punctuation}]', '', text)\n",
    "    # Remove newlines\n",
    "    text = re.sub(r'\\n', '', text)\n",
    "    # Remove alphanumeric words (words containing digits)\n",
    "    text = re.sub(r'\\b\\w*\\d\\w*\\b', '', text)\n",
    "    # Convert to lowercase\n",
    "    text = text.lower()\n",
    "    # Remove remaining non-alphabetic characters (except spaces)\n",
    "    text = re.sub(r'[^a-z\\s]', '', text)\n",
    "    # Normalize repeated characters (e.g., \"soooo\" -> \"so\")\n",
    "    text = re.sub(r'(.)\\1+', r'\\1\\1', text)\n",
    "  \n",
    "    # Remove stopwords\n",
    "    stop_words = set(stopwords.words('english'))\n",
    "    words = text.split()\n",
    "    words = [word for word in words if word not in stop_words]\n",
    "    \n",
    "    # Stem words using LancasterStemmer\n",
    "    stemmer = LancasterStemmer()\n",
    "    words = [stemmer.stem(word) for word in words]\n",
    "\n",
    "    # Join words back into a single string\n",
    "    text = ' '.join(words)\n",
    "    \n",
    "    return text"
   ]
  },
  {
   "cell_type": "code",
   "execution_count": 81,
   "metadata": {},
   "outputs": [
    {
     "data": {
      "text/plain": [
       "class\n",
       "Negative    206\n",
       "Neutral     206\n",
       "Positive    206\n",
       "Name: count, dtype: int64"
      ]
     },
     "execution_count": 81,
     "metadata": {},
     "output_type": "execute_result"
    }
   ],
   "source": [
    "from sklearn.utils import resample\n",
    "\n",
    "# Separate classes\n",
    "df_negative = df_filtered[df_filtered['class'] == 'Negative']\n",
    "df_positive = df_filtered[df_filtered['class'] == 'Positive']\n",
    "df_neutral = df_filtered[df_filtered['class'] == 'Neutral']\n",
    "\n",
    "negative_class_len = len(df_negative)\n",
    "\n",
    "# Downsample majority classes\n",
    "df_positive_resampled = resample(df_positive, replace=False, n_samples=negative_class_len, random_state=42)\n",
    "df_neutral_resampled = resample(df_neutral, replace=False, n_samples=negative_class_len, random_state=42)\n",
    "\n",
    "# Combine all classes into a new balanced dataset\n",
    "df_balanced = pd.concat([df_negative, df_positive_resampled, df_neutral_resampled])\n",
    "\n",
    "# Shuffle the dataset\n",
    "df_balanced = df_balanced.sample(frac=1, random_state=42).reset_index(drop=True)\n",
    "\n",
    "# Check class distribution\n",
    "df_balanced['class'].value_counts()\n"
   ]
  },
  {
   "cell_type": "code",
   "execution_count": 82,
   "metadata": {},
   "outputs": [],
   "source": [
    "df_balanced = pd.get_dummies(df_balanced, columns=['class'], dtype=int)"
   ]
  },
  {
   "cell_type": "code",
   "execution_count": 96,
   "metadata": {},
   "outputs": [],
   "source": [
    "X = df_balanced['body'].apply(clean_text)\n",
    "y = df_balanced[[\"class_Negative\",\"class_Neutral\", \"class_Positive\"]]"
   ]
  },
  {
   "cell_type": "code",
   "execution_count": 84,
   "metadata": {},
   "outputs": [
    {
     "data": {
      "text/plain": [
       "'buy enron'"
      ]
     },
     "execution_count": 84,
     "metadata": {},
     "output_type": "execute_result"
    }
   ],
   "source": [
    "X[0]"
   ]
  },
  {
   "cell_type": "code",
   "execution_count": 85,
   "metadata": {},
   "outputs": [],
   "source": [
    "from sklearn.model_selection import train_test_split"
   ]
  },
  {
   "cell_type": "code",
   "execution_count": 97,
   "metadata": {},
   "outputs": [],
   "source": [
    "vectorizer = TfidfVectorizer(max_features=2000)\n",
    "X = vectorizer.fit_transform(X)\n",
    "X = X.toarray()"
   ]
  },
  {
   "cell_type": "code",
   "execution_count": 98,
   "metadata": {},
   "outputs": [],
   "source": [
    "\n",
    "X_train, X_test, y_train, y_test = train_test_split(X, y, test_size=0.2, random_state=42)\n"
   ]
  },
  {
   "cell_type": "markdown",
   "metadata": {},
   "source": [
    "## Neural Network"
   ]
  },
  {
   "cell_type": "code",
   "execution_count": 88,
   "metadata": {},
   "outputs": [],
   "source": [
    "import torch\n",
    "import torch.nn as nn\n",
    "import torch.optim as optim\n",
    "from sklearn.model_selection import train_test_split\n",
    "from torch.utils.data import DataLoader, TensorDataset\n",
    "import numpy as np\n"
   ]
  },
  {
   "cell_type": "code",
   "execution_count": 99,
   "metadata": {},
   "outputs": [],
   "source": [
    "X_train_tensor = torch.tensor(X_train, dtype=torch.float32)\n",
    "X_test_tensor = torch.tensor(X_test, dtype=torch.float32)\n",
    "y_train_tensor = torch.tensor(y_train.values, dtype=torch.float32)\n",
    "y_test_tensor = torch.tensor(y_test.values, dtype=torch.float32)\n",
    "\n",
    "\n",
    "# Create DataLoader\n",
    "batch_size = 32\n",
    "train_dataset = TensorDataset(X_train_tensor, y_train_tensor)\n",
    "test_dataset = TensorDataset(X_test_tensor, y_test_tensor)\n",
    "train_loader = DataLoader(train_dataset, batch_size=batch_size, shuffle=True)\n",
    "test_loader = DataLoader(test_dataset, batch_size=batch_size, shuffle=False)\n"
   ]
  },
  {
   "cell_type": "code",
   "execution_count": 90,
   "metadata": {},
   "outputs": [],
   "source": [
    "class TextClassifier(nn.Module):\n",
    "    def __init__(self, input_dim, hidden_dim, output_dim, dropout_rate=0.3, activation_fn=nn.ReLU):\n",
    "        super(TextClassifier, self).__init__()\n",
    "        self.fc1 = nn.Linear(input_dim, hidden_dim)\n",
    "        self.actFunc = activation_fn()\n",
    "        self.dropout = nn.Dropout(dropout_rate)\n",
    "        self.fc2 = nn.Linear(hidden_dim, hidden_dim * 2)\n",
    "        self.actFunc2 = activation_fn()\n",
    "        self.fc3 = nn.Linear(hidden_dim*2, hidden_dim * 2)\n",
    "        self.actFunc3 = activation_fn()\n",
    "        self.fc4 = nn.Linear(hidden_dim*2, hidden_dim // 2)\n",
    "        self.actFunc4 = activation_fn()\n",
    "        self.fc5 = nn.Linear(hidden_dim // 2, output_dim)\n",
    "\n",
    "    def forward(self, x):\n",
    "        x = self.fc1(x)\n",
    "        x = self.actFunc(x)\n",
    "        x = self.dropout(x)\n",
    "        x = self.fc2(x)\n",
    "        x = self.actFunc2(x)\n",
    "        x = self.fc3(x)\n",
    "        x = self.actFunc3(x)\n",
    "        x = self.fc4(x)\n",
    "        x = self.actFunc4(x)\n",
    "        x = self.fc5(x)\n",
    "        return x\n",
    "\n",
    "\n",
    "\n"
   ]
  },
  {
   "cell_type": "code",
   "execution_count": 100,
   "metadata": {},
   "outputs": [],
   "source": [
    "# Model parameters\n",
    "input_dim = X_train.shape[1]  # Sentence embedding dimension\n",
    "hidden_dim = int(input_dim/2)\n",
    "output_dim = 3  # Three classes\n",
    "\n",
    "# model = TextClassifier(input_dim, hidden_dim, output_dim, dropout_rate=0.3)\n",
    "model = TextClassifier(input_dim, hidden_dim, output_dim, dropout_rate=0.3, activation_fn=nn.GELU)"
   ]
  },
  {
   "cell_type": "code",
   "execution_count": 101,
   "metadata": {},
   "outputs": [
    {
     "data": {
      "text/plain": [
       "(2000, 1000)"
      ]
     },
     "execution_count": 101,
     "metadata": {},
     "output_type": "execute_result"
    }
   ],
   "source": [
    "input_dim, hidden_dim"
   ]
  },
  {
   "cell_type": "code",
   "execution_count": 102,
   "metadata": {},
   "outputs": [],
   "source": [
    "criterion = nn.CrossEntropyLoss()\n",
    "optimizer = optim.AdamW(model.parameters(), lr=0.001, weight_decay=1e-5)"
   ]
  },
  {
   "cell_type": "code",
   "execution_count": 103,
   "metadata": {},
   "outputs": [
    {
     "name": "stdout",
     "output_type": "stream",
     "text": [
      "Epoch 1, Loss: 1.0915\n",
      "Epoch 2, Loss: 0.6302\n",
      "Epoch 3, Loss: 0.2490\n",
      "Epoch 4, Loss: 0.1161\n",
      "Epoch 5, Loss: 0.1069\n",
      "Epoch 6, Loss: 0.0922\n",
      "Epoch 7, Loss: 0.0839\n",
      "Epoch 8, Loss: 0.0901\n",
      "Epoch 9, Loss: 0.0724\n",
      "Epoch 10, Loss: 0.0994\n",
      "Epoch 11, Loss: 0.0944\n",
      "Epoch 12, Loss: 0.0786\n",
      "Epoch 13, Loss: 0.0671\n",
      "Epoch 14, Loss: 0.0650\n",
      "Epoch 15, Loss: 0.0694\n",
      "Epoch 16, Loss: 0.0628\n",
      "Epoch 17, Loss: 0.0691\n",
      "Epoch 18, Loss: 0.0780\n",
      "Epoch 19, Loss: 0.0672\n",
      "Epoch 20, Loss: 0.1041\n",
      "Epoch 21, Loss: 0.2241\n",
      "Epoch 22, Loss: 0.2524\n",
      "Epoch 23, Loss: 0.3479\n",
      "Epoch 24, Loss: 0.2356\n",
      "Epoch 25, Loss: 0.1180\n",
      "Epoch 26, Loss: 0.1027\n",
      "Epoch 27, Loss: 0.0650\n",
      "Epoch 28, Loss: 0.0663\n",
      "Epoch 29, Loss: 0.0563\n",
      "Epoch 30, Loss: 0.0551\n",
      "Epoch 31, Loss: 0.0537\n",
      "Epoch 32, Loss: 0.0556\n",
      "Epoch 33, Loss: 0.0524\n",
      "Epoch 34, Loss: 0.0557\n",
      "Epoch 35, Loss: 0.0539\n",
      "Epoch 36, Loss: 0.0557\n",
      "Epoch 37, Loss: 0.0517\n",
      "Epoch 38, Loss: 0.0517\n",
      "Epoch 39, Loss: 0.0556\n",
      "Epoch 40, Loss: 0.0511\n",
      "Epoch 41, Loss: 0.0555\n",
      "Epoch 42, Loss: 0.0462\n",
      "Epoch 43, Loss: 0.0501\n",
      "Epoch 44, Loss: 0.0471\n",
      "Epoch 45, Loss: 0.0489\n",
      "Epoch 46, Loss: 0.0520\n",
      "Epoch 47, Loss: 0.0481\n",
      "Epoch 48, Loss: 0.0469\n",
      "Epoch 49, Loss: 0.0501\n",
      "Epoch 50, Loss: 0.0479\n",
      "Epoch 51, Loss: 0.0457\n",
      "Epoch 52, Loss: 0.0508\n",
      "Epoch 53, Loss: 0.0549\n",
      "Epoch 54, Loss: 0.0530\n",
      "Epoch 55, Loss: 0.0557\n",
      "Epoch 56, Loss: 0.0545\n",
      "Epoch 57, Loss: 0.0478\n",
      "Epoch 58, Loss: 0.0477\n",
      "Epoch 59, Loss: 0.0515\n",
      "Epoch 60, Loss: 0.0478\n",
      "Epoch 61, Loss: 0.0493\n",
      "Epoch 62, Loss: 0.0494\n",
      "Epoch 63, Loss: 0.0458\n",
      "Epoch 64, Loss: 0.0488\n",
      "Epoch 65, Loss: 0.0463\n",
      "Epoch 66, Loss: 0.0523\n",
      "Epoch 67, Loss: 0.0511\n",
      "Epoch 68, Loss: 0.0524\n",
      "Epoch 69, Loss: 0.0488\n",
      "Epoch 70, Loss: 0.0462\n",
      "Epoch 71, Loss: 0.0602\n",
      "Epoch 72, Loss: 0.1204\n",
      "Epoch 73, Loss: 0.0988\n",
      "Epoch 74, Loss: 0.0735\n",
      "Epoch 75, Loss: 0.0543\n",
      "Epoch 76, Loss: 0.0489\n",
      "Epoch 77, Loss: 0.0564\n",
      "Epoch 78, Loss: 0.0534\n",
      "Epoch 79, Loss: 0.0495\n",
      "Epoch 80, Loss: 0.0474\n",
      "Epoch 81, Loss: 0.0486\n",
      "Epoch 82, Loss: 0.0490\n",
      "Epoch 83, Loss: 0.0478\n",
      "Epoch 84, Loss: 0.0505\n",
      "Epoch 85, Loss: 0.0609\n",
      "Epoch 86, Loss: 0.0519\n",
      "Epoch 87, Loss: 0.0518\n",
      "Epoch 88, Loss: 0.0543\n",
      "Epoch 89, Loss: 0.0494\n",
      "Epoch 90, Loss: 0.0565\n",
      "Epoch 91, Loss: 0.0646\n",
      "Epoch 92, Loss: 0.0508\n",
      "Epoch 93, Loss: 0.0467\n",
      "Epoch 94, Loss: 0.0665\n",
      "Epoch 95, Loss: 0.0504\n",
      "Epoch 96, Loss: 0.0450\n",
      "Epoch 97, Loss: 0.0461\n",
      "Epoch 98, Loss: 0.0450\n",
      "Epoch 99, Loss: 0.0535\n",
      "Epoch 100, Loss: 0.0502\n",
      "Epoch 101, Loss: 0.0477\n",
      "Epoch 102, Loss: 0.0460\n",
      "Epoch 103, Loss: 0.0502\n",
      "Epoch 104, Loss: 0.0485\n",
      "Epoch 105, Loss: 0.0461\n",
      "Epoch 106, Loss: 0.0440\n",
      "Epoch 107, Loss: 0.0458\n",
      "Epoch 108, Loss: 0.0444\n",
      "Epoch 109, Loss: 0.0492\n",
      "Epoch 110, Loss: 0.0551\n",
      "Epoch 111, Loss: 0.0558\n",
      "Epoch 112, Loss: 0.0503\n",
      "Epoch 113, Loss: 0.0487\n",
      "Epoch 114, Loss: 0.0640\n",
      "Epoch 115, Loss: 0.0606\n",
      "Epoch 116, Loss: 0.0798\n",
      "Epoch 117, Loss: 0.0688\n",
      "Epoch 118, Loss: 0.0707\n",
      "Epoch 119, Loss: 0.3536\n",
      "Epoch 120, Loss: 0.2133\n",
      "Epoch 121, Loss: 0.2830\n",
      "Epoch 122, Loss: 0.1384\n",
      "Epoch 123, Loss: 0.0877\n",
      "Epoch 124, Loss: 0.0851\n",
      "Epoch 125, Loss: 0.0630\n",
      "Epoch 126, Loss: 0.0795\n",
      "Epoch 127, Loss: 0.0766\n",
      "Epoch 128, Loss: 0.0644\n",
      "Epoch 129, Loss: 0.0633\n",
      "Epoch 130, Loss: 0.0662\n",
      "Epoch 131, Loss: 0.0623\n",
      "Epoch 132, Loss: 0.0552\n",
      "Epoch 133, Loss: 0.0563\n",
      "Epoch 134, Loss: 0.0532\n",
      "Epoch 135, Loss: 0.0521\n",
      "Epoch 136, Loss: 0.0511\n",
      "Epoch 137, Loss: 0.0543\n",
      "Epoch 138, Loss: 0.0507\n",
      "Epoch 139, Loss: 0.0502\n",
      "Epoch 140, Loss: 0.0619\n",
      "Epoch 141, Loss: 0.0541\n",
      "Epoch 142, Loss: 0.0520\n",
      "Epoch 143, Loss: 0.0490\n",
      "Epoch 144, Loss: 0.0477\n",
      "Epoch 145, Loss: 0.1306\n",
      "Epoch 146, Loss: 0.0647\n",
      "Epoch 147, Loss: 0.0584\n",
      "Epoch 148, Loss: 0.0564\n",
      "Epoch 149, Loss: 0.0537\n",
      "Epoch 150, Loss: 0.0487\n",
      "Epoch 151, Loss: 0.0484\n",
      "Epoch 152, Loss: 0.0464\n",
      "Epoch 153, Loss: 0.0481\n",
      "Epoch 154, Loss: 0.0546\n",
      "Epoch 155, Loss: 0.0556\n",
      "Epoch 156, Loss: 0.0569\n",
      "Epoch 157, Loss: 0.0573\n",
      "Epoch 158, Loss: 0.0500\n",
      "Epoch 159, Loss: 0.0516\n",
      "Epoch 160, Loss: 0.0510\n",
      "Epoch 161, Loss: 0.0512\n",
      "Epoch 162, Loss: 0.0504\n",
      "Epoch 163, Loss: 0.0464\n",
      "Epoch 164, Loss: 0.0482\n",
      "Epoch 165, Loss: 0.0498\n",
      "Epoch 166, Loss: 0.0458\n",
      "Epoch 167, Loss: 0.0465\n",
      "Epoch 168, Loss: 0.0514\n",
      "Epoch 169, Loss: 0.0484\n",
      "Epoch 170, Loss: 0.0458\n",
      "Epoch 171, Loss: 0.0472\n",
      "Epoch 172, Loss: 0.0490\n",
      "Epoch 173, Loss: 0.0500\n",
      "Epoch 174, Loss: 0.0459\n",
      "Epoch 175, Loss: 0.0528\n",
      "Epoch 176, Loss: 0.0514\n",
      "Epoch 177, Loss: 0.0511\n",
      "Epoch 178, Loss: 0.0511\n",
      "Epoch 179, Loss: 0.0481\n",
      "Epoch 180, Loss: 0.0527\n",
      "Epoch 181, Loss: 0.0519\n",
      "Epoch 182, Loss: 0.0465\n",
      "Epoch 183, Loss: 0.0486\n",
      "Epoch 184, Loss: 0.0456\n",
      "Epoch 185, Loss: 0.0477\n",
      "Epoch 186, Loss: 0.0469\n",
      "Epoch 187, Loss: 0.0454\n",
      "Epoch 188, Loss: 0.0484\n",
      "Epoch 189, Loss: 0.0490\n",
      "Epoch 190, Loss: 0.0499\n",
      "Epoch 191, Loss: 0.0459\n",
      "Epoch 192, Loss: 0.0460\n",
      "Epoch 193, Loss: 0.0453\n",
      "Epoch 194, Loss: 0.0466\n",
      "Epoch 195, Loss: 0.0440\n",
      "Epoch 196, Loss: 0.0442\n",
      "Epoch 197, Loss: 0.0453\n",
      "Epoch 198, Loss: 0.0437\n",
      "Epoch 199, Loss: 0.0463\n",
      "Epoch 200, Loss: 0.0465\n",
      "Epoch 201, Loss: 0.0433\n",
      "Epoch 202, Loss: 0.0436\n",
      "Epoch 203, Loss: 0.0483\n",
      "Epoch 204, Loss: 0.0437\n",
      "Epoch 205, Loss: 0.0445\n",
      "Epoch 206, Loss: 0.0439\n",
      "Epoch 207, Loss: 0.0442\n",
      "Epoch 208, Loss: 0.0490\n",
      "Epoch 209, Loss: 0.0468\n",
      "Epoch 210, Loss: 0.0432\n",
      "Epoch 211, Loss: 0.0473\n",
      "Epoch 212, Loss: 0.0469\n",
      "Epoch 213, Loss: 0.0473\n",
      "Epoch 214, Loss: 0.0472\n",
      "Epoch 215, Loss: 0.0450\n",
      "Epoch 216, Loss: 0.0450\n",
      "Epoch 217, Loss: 0.0462\n",
      "Epoch 218, Loss: 0.0453\n",
      "Epoch 219, Loss: 0.0516\n",
      "Epoch 220, Loss: 0.0435\n",
      "Epoch 221, Loss: 0.0445\n",
      "Epoch 222, Loss: 0.0435\n",
      "Epoch 223, Loss: 0.0448\n",
      "Epoch 224, Loss: 0.0489\n",
      "Epoch 225, Loss: 0.0497\n",
      "Epoch 226, Loss: 0.0455\n",
      "Epoch 227, Loss: 0.0452\n",
      "Epoch 228, Loss: 0.0435\n",
      "Epoch 229, Loss: 0.0468\n",
      "Epoch 230, Loss: 0.0444\n",
      "Epoch 231, Loss: 0.0456\n",
      "Epoch 232, Loss: 0.0460\n",
      "Epoch 233, Loss: 0.0470\n",
      "Epoch 234, Loss: 0.0436\n",
      "Epoch 235, Loss: 0.0476\n",
      "Epoch 236, Loss: 0.0454\n",
      "Epoch 237, Loss: 0.0443\n",
      "Epoch 238, Loss: 0.0432\n",
      "Epoch 239, Loss: 0.0439\n",
      "Epoch 240, Loss: 0.0552\n",
      "Epoch 241, Loss: 0.0437\n",
      "Epoch 242, Loss: 0.0443\n",
      "Epoch 243, Loss: 0.0522\n",
      "Epoch 244, Loss: 0.0439\n",
      "Epoch 245, Loss: 0.0440\n",
      "Epoch 246, Loss: 0.0459\n",
      "Epoch 247, Loss: 0.0432\n",
      "Epoch 248, Loss: 0.0475\n",
      "Epoch 249, Loss: 0.0435\n",
      "Epoch 250, Loss: 0.0464\n",
      "Epoch 251, Loss: 0.0460\n",
      "Epoch 252, Loss: 0.0460\n",
      "Epoch 253, Loss: 0.0432\n",
      "Epoch 254, Loss: 0.0441\n",
      "Epoch 255, Loss: 0.0456\n",
      "Epoch 256, Loss: 0.0439\n",
      "Epoch 257, Loss: 0.0436\n",
      "Epoch 258, Loss: 0.0436\n",
      "Epoch 259, Loss: 0.0443\n",
      "Epoch 260, Loss: 0.0487\n",
      "Epoch 261, Loss: 0.0438\n",
      "Epoch 262, Loss: 0.0448\n",
      "Epoch 263, Loss: 0.0435\n",
      "Epoch 264, Loss: 0.0467\n",
      "Epoch 265, Loss: 0.0436\n",
      "Epoch 266, Loss: 0.0457\n",
      "Epoch 267, Loss: 0.0465\n",
      "Epoch 268, Loss: 0.0433\n",
      "Epoch 269, Loss: 0.0434\n",
      "Epoch 270, Loss: 0.0459\n",
      "Epoch 271, Loss: 0.0455\n",
      "Epoch 272, Loss: 0.0468\n",
      "Epoch 273, Loss: 0.0489\n",
      "Epoch 274, Loss: 0.0481\n",
      "Epoch 275, Loss: 0.0435\n",
      "Epoch 276, Loss: 0.0501\n",
      "Epoch 277, Loss: 0.0487\n",
      "Epoch 278, Loss: 0.0456\n",
      "Epoch 279, Loss: 0.0456\n",
      "Epoch 280, Loss: 0.0481\n",
      "Epoch 281, Loss: 0.0460\n",
      "Epoch 282, Loss: 0.0438\n",
      "Epoch 283, Loss: 0.0450\n",
      "Epoch 284, Loss: 0.0485\n",
      "Epoch 285, Loss: 0.0476\n",
      "Epoch 286, Loss: 0.0433\n",
      "Epoch 287, Loss: 0.0452\n",
      "Epoch 288, Loss: 0.0434\n",
      "Epoch 289, Loss: 0.0435\n",
      "Epoch 290, Loss: 0.0520\n",
      "Epoch 291, Loss: 0.0437\n",
      "Epoch 292, Loss: 0.0451\n",
      "Epoch 293, Loss: 0.0432\n",
      "Epoch 294, Loss: 0.0416\n",
      "Epoch 295, Loss: 0.0497\n",
      "Epoch 296, Loss: 0.0549\n",
      "Epoch 297, Loss: 0.0868\n",
      "Epoch 298, Loss: 0.0497\n",
      "Epoch 299, Loss: 0.0730\n",
      "Epoch 300, Loss: 0.0627\n",
      "Epoch 301, Loss: 0.0516\n",
      "Epoch 302, Loss: 0.0779\n",
      "Epoch 303, Loss: 0.0652\n",
      "Epoch 304, Loss: 0.0601\n",
      "Epoch 305, Loss: 0.0711\n",
      "Epoch 306, Loss: 0.0529\n",
      "Epoch 307, Loss: 0.0513\n",
      "Epoch 308, Loss: 0.0489\n",
      "Epoch 309, Loss: 0.0503\n",
      "Epoch 310, Loss: 0.0523\n",
      "Epoch 311, Loss: 0.0465\n",
      "Epoch 312, Loss: 0.0453\n",
      "Epoch 313, Loss: 0.0465\n",
      "Epoch 314, Loss: 0.0457\n",
      "Epoch 315, Loss: 0.0489\n",
      "Epoch 316, Loss: 0.0494\n",
      "Epoch 317, Loss: 0.0446\n",
      "Epoch 318, Loss: 0.0462\n",
      "Epoch 319, Loss: 0.0465\n",
      "Epoch 320, Loss: 0.0478\n",
      "Epoch 321, Loss: 0.0459\n",
      "Epoch 322, Loss: 0.0440\n",
      "Epoch 323, Loss: 0.0437\n",
      "Epoch 324, Loss: 0.0469\n",
      "Epoch 325, Loss: 0.0482\n",
      "Epoch 326, Loss: 0.0458\n",
      "Epoch 327, Loss: 0.0438\n",
      "Epoch 328, Loss: 0.0452\n",
      "Epoch 329, Loss: 0.0449\n",
      "Epoch 330, Loss: 0.0447\n",
      "Epoch 331, Loss: 0.0440\n",
      "Epoch 332, Loss: 0.0435\n",
      "Epoch 333, Loss: 0.0449\n",
      "Epoch 334, Loss: 0.0436\n",
      "Epoch 335, Loss: 0.0469\n",
      "Epoch 336, Loss: 0.0464\n",
      "Epoch 337, Loss: 0.0490\n",
      "Epoch 338, Loss: 0.0529\n",
      "Epoch 339, Loss: 0.0583\n",
      "Epoch 340, Loss: 0.0572\n",
      "Epoch 341, Loss: 0.0466\n",
      "Epoch 342, Loss: 0.0510\n",
      "Epoch 343, Loss: 0.0524\n",
      "Epoch 344, Loss: 0.0674\n",
      "Epoch 345, Loss: 0.0566\n",
      "Epoch 346, Loss: 0.0505\n",
      "Epoch 347, Loss: 0.0500\n",
      "Epoch 348, Loss: 0.0633\n",
      "Epoch 349, Loss: 0.0538\n",
      "Epoch 350, Loss: 0.0538\n",
      "Epoch 351, Loss: 0.0633\n",
      "Epoch 352, Loss: 0.0529\n",
      "Epoch 353, Loss: 0.0529\n",
      "Epoch 354, Loss: 0.0493\n",
      "Epoch 355, Loss: 0.0490\n",
      "Epoch 356, Loss: 0.0493\n",
      "Epoch 357, Loss: 0.0485\n",
      "Epoch 358, Loss: 0.0506\n",
      "Epoch 359, Loss: 0.0485\n",
      "Epoch 360, Loss: 0.0479\n",
      "Epoch 361, Loss: 0.0489\n",
      "Epoch 362, Loss: 0.0482\n",
      "Epoch 363, Loss: 0.0514\n",
      "Epoch 364, Loss: 0.0519\n",
      "Epoch 365, Loss: 0.0515\n",
      "Epoch 366, Loss: 0.0482\n",
      "Epoch 367, Loss: 0.0520\n",
      "Epoch 368, Loss: 0.0504\n",
      "Epoch 369, Loss: 0.0487\n",
      "Epoch 370, Loss: 0.0527\n",
      "Epoch 371, Loss: 0.0528\n",
      "Epoch 372, Loss: 0.0471\n",
      "Epoch 373, Loss: 0.0543\n",
      "Epoch 374, Loss: 0.0487\n",
      "Epoch 375, Loss: 0.0498\n",
      "Epoch 376, Loss: 0.0493\n",
      "Epoch 377, Loss: 0.0468\n",
      "Epoch 378, Loss: 0.0525\n",
      "Epoch 379, Loss: 0.0486\n",
      "Epoch 380, Loss: 0.0478\n",
      "Epoch 381, Loss: 0.0469\n",
      "Epoch 382, Loss: 0.4382\n",
      "Epoch 383, Loss: 0.1224\n",
      "Epoch 384, Loss: 0.0628\n",
      "Epoch 385, Loss: 0.0977\n",
      "Epoch 386, Loss: 0.0585\n",
      "Epoch 387, Loss: 0.0497\n",
      "Epoch 388, Loss: 0.0559\n",
      "Epoch 389, Loss: 0.0485\n",
      "Epoch 390, Loss: 0.0952\n",
      "Epoch 391, Loss: 0.0494\n",
      "Epoch 392, Loss: 0.0589\n",
      "Epoch 393, Loss: 0.0540\n",
      "Epoch 394, Loss: 0.0510\n",
      "Epoch 395, Loss: 0.0529\n",
      "Epoch 396, Loss: 0.0492\n",
      "Epoch 397, Loss: 0.0480\n",
      "Epoch 398, Loss: 0.0537\n",
      "Epoch 399, Loss: 0.0536\n",
      "Epoch 400, Loss: 0.0698\n",
      "Epoch 401, Loss: 0.0581\n",
      "Epoch 402, Loss: 0.1144\n",
      "Epoch 403, Loss: 0.2060\n",
      "Epoch 404, Loss: 0.2218\n",
      "Epoch 405, Loss: 0.0700\n",
      "Epoch 406, Loss: 0.0628\n",
      "Epoch 407, Loss: 0.0540\n",
      "Epoch 408, Loss: 0.0510\n",
      "Epoch 409, Loss: 0.0527\n",
      "Epoch 410, Loss: 0.0536\n",
      "Epoch 411, Loss: 0.0504\n",
      "Epoch 412, Loss: 0.0505\n",
      "Epoch 413, Loss: 0.0501\n",
      "Epoch 414, Loss: 0.0499\n",
      "Epoch 415, Loss: 0.0533\n",
      "Epoch 416, Loss: 0.0526\n",
      "Epoch 417, Loss: 0.0545\n",
      "Epoch 418, Loss: 0.0496\n",
      "Epoch 419, Loss: 0.0495\n",
      "Epoch 420, Loss: 0.0506\n",
      "Epoch 421, Loss: 0.0495\n",
      "Epoch 422, Loss: 0.0520\n",
      "Epoch 423, Loss: 0.0501\n",
      "Epoch 424, Loss: 0.0587\n",
      "Epoch 425, Loss: 0.0473\n",
      "Epoch 426, Loss: 0.0671\n",
      "Epoch 427, Loss: 0.0503\n",
      "Epoch 428, Loss: 0.0483\n",
      "Epoch 429, Loss: 0.0479\n",
      "Epoch 430, Loss: 0.0532\n",
      "Epoch 431, Loss: 0.0511\n",
      "Epoch 432, Loss: 0.0511\n",
      "Epoch 433, Loss: 0.0470\n",
      "Epoch 434, Loss: 0.0524\n",
      "Epoch 435, Loss: 0.0559\n",
      "Epoch 436, Loss: 0.0467\n",
      "Epoch 437, Loss: 0.0463\n",
      "Epoch 438, Loss: 0.0467\n",
      "Epoch 439, Loss: 0.0502\n",
      "Epoch 440, Loss: 0.0468\n",
      "Epoch 441, Loss: 0.0475\n",
      "Epoch 442, Loss: 0.0553\n",
      "Epoch 443, Loss: 0.0508\n",
      "Epoch 444, Loss: 0.0481\n",
      "Epoch 445, Loss: 0.0515\n",
      "Epoch 446, Loss: 0.0526\n",
      "Epoch 447, Loss: 0.0500\n",
      "Epoch 448, Loss: 0.0529\n",
      "Epoch 449, Loss: 0.0478\n",
      "Epoch 450, Loss: 0.0512\n",
      "Epoch 451, Loss: 0.0477\n",
      "Epoch 452, Loss: 0.0477\n",
      "Epoch 453, Loss: 0.0477\n",
      "Epoch 454, Loss: 0.0500\n",
      "Epoch 455, Loss: 0.0494\n",
      "Epoch 456, Loss: 0.0477\n",
      "Epoch 457, Loss: 0.0506\n",
      "Epoch 458, Loss: 0.0477\n",
      "Epoch 459, Loss: 0.0477\n",
      "Epoch 460, Loss: 0.0512\n",
      "Epoch 461, Loss: 0.0506\n",
      "Epoch 462, Loss: 0.0511\n",
      "Epoch 463, Loss: 0.0478\n",
      "Epoch 464, Loss: 0.0505\n",
      "Epoch 465, Loss: 0.0477\n",
      "Epoch 466, Loss: 0.0476\n",
      "Epoch 467, Loss: 0.0477\n",
      "Epoch 468, Loss: 0.0498\n",
      "Epoch 469, Loss: 0.0558\n",
      "Epoch 470, Loss: 0.0477\n",
      "Epoch 471, Loss: 0.0511\n",
      "Epoch 472, Loss: 0.0527\n",
      "Epoch 473, Loss: 0.0508\n",
      "Epoch 474, Loss: 0.0486\n",
      "Epoch 475, Loss: 0.0538\n",
      "Epoch 476, Loss: 0.0508\n",
      "Epoch 477, Loss: 0.0510\n",
      "Epoch 478, Loss: 0.0478\n",
      "Epoch 479, Loss: 0.0521\n",
      "Epoch 480, Loss: 0.0510\n",
      "Epoch 481, Loss: 0.0500\n",
      "Epoch 482, Loss: 0.0541\n",
      "Epoch 483, Loss: 0.0541\n",
      "Epoch 484, Loss: 0.0505\n",
      "Epoch 485, Loss: 0.0498\n",
      "Epoch 486, Loss: 0.0463\n",
      "Epoch 487, Loss: 0.0482\n",
      "Epoch 488, Loss: 0.0458\n",
      "Epoch 489, Loss: 0.0486\n",
      "Epoch 490, Loss: 0.0481\n",
      "Epoch 491, Loss: 0.0478\n",
      "Epoch 492, Loss: 0.0688\n",
      "Epoch 493, Loss: 0.0519\n",
      "Epoch 494, Loss: 0.0520\n",
      "Epoch 495, Loss: 0.0651\n",
      "Epoch 496, Loss: 0.0654\n",
      "Epoch 497, Loss: 0.0572\n",
      "Epoch 498, Loss: 0.0582\n",
      "Epoch 499, Loss: 0.0557\n",
      "Epoch 500, Loss: 0.0574\n",
      "Epoch 501, Loss: 0.0643\n",
      "Epoch 502, Loss: 0.0590\n",
      "Epoch 503, Loss: 0.0575\n",
      "Epoch 504, Loss: 0.0604\n",
      "Epoch 505, Loss: 0.0573\n",
      "Epoch 506, Loss: 0.0552\n",
      "Epoch 507, Loss: 0.0605\n",
      "Epoch 508, Loss: 0.0551\n",
      "Epoch 509, Loss: 0.0551\n",
      "Epoch 510, Loss: 0.0550\n",
      "Epoch 511, Loss: 0.0549\n",
      "Epoch 512, Loss: 0.0612\n",
      "Epoch 513, Loss: 0.0977\n",
      "Epoch 514, Loss: 0.0638\n",
      "Epoch 515, Loss: 0.1107\n",
      "Epoch 516, Loss: 0.0822\n",
      "Epoch 517, Loss: 0.1656\n",
      "Epoch 518, Loss: 0.4766\n",
      "Epoch 519, Loss: 0.1615\n",
      "Epoch 520, Loss: 0.7791\n",
      "Epoch 521, Loss: 0.1106\n",
      "Epoch 522, Loss: 0.0752\n",
      "Epoch 523, Loss: 0.0782\n",
      "Epoch 524, Loss: 0.0756\n",
      "Epoch 525, Loss: 0.0658\n",
      "Epoch 526, Loss: 0.0640\n",
      "Epoch 527, Loss: 0.0530\n",
      "Epoch 528, Loss: 0.0524\n",
      "Epoch 529, Loss: 0.0553\n",
      "Epoch 530, Loss: 0.0521\n",
      "Epoch 531, Loss: 0.0574\n",
      "Epoch 532, Loss: 0.0575\n",
      "Epoch 533, Loss: 0.0566\n",
      "Epoch 534, Loss: 0.0598\n",
      "Epoch 535, Loss: 0.0549\n",
      "Epoch 536, Loss: 0.0598\n",
      "Epoch 537, Loss: 0.0598\n",
      "Epoch 538, Loss: 0.0567\n",
      "Epoch 539, Loss: 0.0567\n",
      "Epoch 540, Loss: 0.0566\n",
      "Epoch 541, Loss: 0.0601\n",
      "Epoch 542, Loss: 0.0575\n",
      "Epoch 543, Loss: 0.0605\n",
      "Epoch 544, Loss: 0.0550\n",
      "Epoch 545, Loss: 0.0550\n",
      "Epoch 546, Loss: 0.0571\n",
      "Epoch 547, Loss: 0.0546\n",
      "Epoch 548, Loss: 0.0630\n",
      "Epoch 549, Loss: 0.0580\n",
      "Epoch 550, Loss: 0.0549\n",
      "Epoch 551, Loss: 0.0549\n",
      "Epoch 552, Loss: 0.0550\n",
      "Epoch 553, Loss: 0.0549\n",
      "Epoch 554, Loss: 0.0527\n",
      "Epoch 555, Loss: 0.0527\n",
      "Epoch 556, Loss: 0.0525\n",
      "Epoch 557, Loss: 0.0591\n",
      "Epoch 558, Loss: 0.0525\n",
      "Epoch 559, Loss: 0.0581\n",
      "Epoch 560, Loss: 0.0555\n",
      "Epoch 561, Loss: 0.0525\n",
      "Epoch 562, Loss: 0.0555\n",
      "Epoch 563, Loss: 0.0524\n",
      "Epoch 564, Loss: 0.0524\n",
      "Epoch 565, Loss: 0.0524\n",
      "Epoch 566, Loss: 0.0591\n",
      "Epoch 567, Loss: 0.0591\n",
      "Epoch 568, Loss: 0.0561\n",
      "Epoch 569, Loss: 0.0561\n",
      "Epoch 570, Loss: 0.0524\n",
      "Epoch 571, Loss: 0.0524\n",
      "Epoch 572, Loss: 0.0544\n",
      "Epoch 573, Loss: 0.0580\n",
      "Epoch 574, Loss: 0.0573\n",
      "Epoch 575, Loss: 0.0584\n",
      "Epoch 576, Loss: 0.0573\n",
      "Epoch 577, Loss: 0.0524\n",
      "Epoch 578, Loss: 0.0554\n",
      "Epoch 579, Loss: 0.0560\n",
      "Epoch 580, Loss: 0.0543\n",
      "Epoch 581, Loss: 0.0524\n",
      "Epoch 582, Loss: 0.0524\n",
      "Epoch 583, Loss: 0.0542\n",
      "Epoch 584, Loss: 0.0523\n",
      "Epoch 585, Loss: 0.0523\n",
      "Epoch 586, Loss: 0.0572\n",
      "Epoch 587, Loss: 0.0523\n",
      "Epoch 588, Loss: 0.0523\n",
      "Epoch 589, Loss: 0.0523\n",
      "Epoch 590, Loss: 0.0542\n",
      "Epoch 591, Loss: 0.0523\n",
      "Epoch 592, Loss: 0.0560\n",
      "Epoch 593, Loss: 0.0523\n",
      "Epoch 594, Loss: 0.0523\n",
      "Epoch 595, Loss: 0.0523\n",
      "Epoch 596, Loss: 0.0542\n",
      "Epoch 597, Loss: 0.0541\n",
      "Epoch 598, Loss: 0.0523\n",
      "Epoch 599, Loss: 0.0523\n",
      "Epoch 600, Loss: 0.0523\n"
     ]
    }
   ],
   "source": [
    "num_epochs = 600  # Increase epochs for better learning\n",
    "total_loss_list = []\n",
    "\n",
    "for epoch in range(num_epochs):\n",
    "    model.train()\n",
    "    total_loss = 0\n",
    "    \n",
    "    for X_batch, y_batch in train_loader:\n",
    "        optimizer.zero_grad()\n",
    "        outputs = model(X_batch)\n",
    "        loss = criterion(outputs, torch.max(y_batch, 1)[1])  # Convert one-hot to class indices\n",
    "\n",
    "        # loss = criterion(outputs, y_batch.to(torch.long))  # Convert one-hot to class indices\n",
    "\n",
    "        \n",
    "\n",
    "        loss.backward()\n",
    "        optimizer.step()\n",
    "        total_loss += loss.item()\n",
    "        \n",
    "    avg_loss = total_loss / len(train_loader)\n",
    "    total_loss_list.append(avg_loss)  # Store average loss for this epoch\n",
    "    \n",
    "    print(f\"Epoch {epoch+1}, Loss: {total_loss/len(train_loader):.4f}\")\n"
   ]
  },
  {
   "cell_type": "code",
   "execution_count": 104,
   "metadata": {},
   "outputs": [
    {
     "name": "stdout",
     "output_type": "stream",
     "text": [
      "Test Accuracy: 0.5484\n"
     ]
    }
   ],
   "source": [
    "model.eval()\n",
    "correct, total = 0, 0\n",
    "\n",
    "with torch.no_grad():\n",
    "    for X_batch, y_batch in test_loader:\n",
    "        outputs = model(X_batch)\n",
    "        predicted = torch.argmax(outputs, axis=1)\n",
    "        actual = torch.argmax(y_batch, axis=1)\n",
    "        correct += (predicted == actual).sum().item()\n",
    "        total += y_batch.size(0)\n",
    "\n",
    "accuracy = correct / total\n",
    "print(f\"Test Accuracy: {accuracy:.4f}\")\n"
   ]
  },
  {
   "cell_type": "markdown",
   "metadata": {},
   "source": [
    "<h3>Observations :</h3>\n",
    "<br>\n",
    "we got worse results with TF-IDF method than the embedding method, with the NN method lets check if ML models perform better than this"
   ]
  },
  {
   "cell_type": "code",
   "execution_count": null,
   "metadata": {},
   "outputs": [],
   "source": []
  },
  {
   "cell_type": "markdown",
   "metadata": {},
   "source": [
    "## ML models"
   ]
  },
  {
   "cell_type": "code",
   "execution_count": 106,
   "metadata": {},
   "outputs": [],
   "source": [
    "from sklearn.metrics import confusion_matrix, classification_report"
   ]
  },
  {
   "cell_type": "code",
   "execution_count": 110,
   "metadata": {},
   "outputs": [],
   "source": [
    "X = df_balanced['body']\n",
    "y = df_balanced[[\"class_Negative\",\"class_Neutral\", \"class_Positive\"]]\n",
    "y = np.argmax(y.values, axis=1)"
   ]
  },
  {
   "cell_type": "code",
   "execution_count": 111,
   "metadata": {},
   "outputs": [],
   "source": [
    "vectorizer = TfidfVectorizer(max_features=2000)\n",
    "X = vectorizer.fit_transform(X)\n",
    "X = X.toarray()"
   ]
  },
  {
   "cell_type": "code",
   "execution_count": 112,
   "metadata": {},
   "outputs": [],
   "source": [
    "X_train, X_test, y_train, y_test = train_test_split(X, y, test_size=0.2, random_state=42)\n"
   ]
  },
  {
   "cell_type": "code",
   "execution_count": null,
   "metadata": {},
   "outputs": [],
   "source": []
  },
  {
   "cell_type": "code",
   "execution_count": 115,
   "metadata": {},
   "outputs": [
    {
     "name": "stdout",
     "output_type": "stream",
     "text": [
      "Model Accuracy: 0.65\n"
     ]
    },
    {
     "name": "stderr",
     "output_type": "stream",
     "text": [
      "/home/heramb96/miniconda3/envs/glynac/lib/python3.13/site-packages/sklearn/linear_model/_logistic.py:1256: FutureWarning: 'multi_class' was deprecated in version 1.5 and will be removed in 1.7. Use OneVsRestClassifier(LogisticRegression(..)) instead. Leave it to its default value to avoid this warning.\n",
      "  warnings.warn(\n"
     ]
    }
   ],
   "source": [
    "from sklearn.linear_model import LogisticRegression\n",
    "from sklearn.metrics import accuracy_score, precision_score, recall_score\n",
    "\n",
    "# Train a logistic regression model\n",
    "model = LogisticRegression(multi_class='ovr', solver='liblinear')\n",
    "model.fit(X_train, y_train)\n",
    "\n",
    "# Predictions\n",
    "y_pred = model.predict(X_test)\n",
    "\n",
    "# Evaluate\n",
    "accuracy = accuracy_score(y_test, y_pred)\n",
    "print(f\"Model Accuracy: {accuracy:.2f}\")\n"
   ]
  },
  {
   "cell_type": "code",
   "execution_count": 116,
   "metadata": {},
   "outputs": [
    {
     "data": {
      "text/plain": [
       "array([[30,  3,  4],\n",
       "       [ 7, 22,  7],\n",
       "       [12, 11, 28]])"
      ]
     },
     "execution_count": 116,
     "metadata": {},
     "output_type": "execute_result"
    }
   ],
   "source": [
    "confusion_matrix(y_test, y_pred)"
   ]
  },
  {
   "cell_type": "code",
   "execution_count": 117,
   "metadata": {},
   "outputs": [],
   "source": [
    "precision = precision_score(y_test, y_pred, average=None)  # Per-class precision\n",
    "recall = recall_score(y_test, y_pred, average=None) "
   ]
  },
  {
   "cell_type": "code",
   "execution_count": 118,
   "metadata": {},
   "outputs": [
    {
     "data": {
      "text/plain": [
       "array([0.6122449 , 0.61111111, 0.71794872])"
      ]
     },
     "execution_count": 118,
     "metadata": {},
     "output_type": "execute_result"
    }
   ],
   "source": [
    "precision"
   ]
  },
  {
   "cell_type": "code",
   "execution_count": 119,
   "metadata": {},
   "outputs": [
    {
     "data": {
      "text/plain": [
       "array([0.81081081, 0.61111111, 0.54901961])"
      ]
     },
     "execution_count": 119,
     "metadata": {},
     "output_type": "execute_result"
    }
   ],
   "source": [
    "recall"
   ]
  },
  {
   "cell_type": "markdown",
   "metadata": {},
   "source": [
    "<h3>Observations :</h3>\n",
    "<br>\n",
    "\n",
    "With Linear regression model we got 65% accuracy with okay other results"
   ]
  },
  {
   "cell_type": "code",
   "execution_count": null,
   "metadata": {},
   "outputs": [],
   "source": []
  },
  {
   "cell_type": "code",
   "execution_count": 120,
   "metadata": {},
   "outputs": [
    {
     "name": "stdout",
     "output_type": "stream",
     "text": [
      "Random Forest Accuracy: 0.56\n"
     ]
    }
   ],
   "source": [
    "from sklearn.ensemble import RandomForestClassifier\n",
    "\n",
    "rf_model = RandomForestClassifier(n_estimators=100, random_state=42)\n",
    "rf_model.fit(X_train, y_train)\n",
    "\n",
    "y_pred_rf = rf_model.predict(X_test)\n",
    "accuracy_rf = accuracy_score(y_test, y_pred_rf)\n",
    "print(f\"Random Forest Accuracy: {accuracy_rf:.2f}\")\n"
   ]
  },
  {
   "cell_type": "code",
   "execution_count": 70,
   "metadata": {},
   "outputs": [
    {
     "data": {
      "text/plain": [
       "array([1, 0, 1, 2, 1, 0, 2, 2, 1, 0])"
      ]
     },
     "execution_count": 70,
     "metadata": {},
     "output_type": "execute_result"
    }
   ],
   "source": [
    "y_test[:10]"
   ]
  },
  {
   "cell_type": "markdown",
   "metadata": {},
   "source": [
    "<h3>Observations :</h3>\n",
    "<br>\n",
    "with random forest classifier we got bad results"
   ]
  },
  {
   "cell_type": "code",
   "execution_count": null,
   "metadata": {},
   "outputs": [],
   "source": []
  },
  {
   "cell_type": "markdown",
   "metadata": {},
   "source": [
    "# Final Verdict"
   ]
  },
  {
   "cell_type": "markdown",
   "metadata": {},
   "source": [
    "<b>Vector Embedding Results</b>\n",
    "\n",
    "Neural Network : 71%\n",
    "\n",
    "ML Models : 65-67 %\n",
    "\n",
    "<br>\n",
    "<b>TF-IDF results</b>\n",
    "\n",
    "Neural Network : 56% \n",
    "\n",
    "ML models : 56-65 %\n",
    "\n",
    "\n"
   ]
  },
  {
   "cell_type": "markdown",
   "metadata": {},
   "source": [
    "<h2>Observations :</h2>\n",
    "<ul>\n",
    "    <li>Vector Embedding based sentiment analysis works better than the TF-IDF method, yielding better accuracy\n",
    "    <li>Because the dataset is limited, there is a possibility that if the dataset size is increased then the model would be better able to grasp the sentiments more accurately\n",
    "    <li>Overall, LLMs are much more suited for muli-class sentiment classification, as they can understand nuiances present in the mail, which embedding or traditional NLP methods may ignore right away\n",
    "    \n",
    "\n",
    "</ul>"
   ]
  },
  {
   "cell_type": "code",
   "execution_count": null,
   "metadata": {},
   "outputs": [],
   "source": []
  }
 ],
 "metadata": {
  "kernelspec": {
   "display_name": "glynac",
   "language": "python",
   "name": "python3"
  },
  "language_info": {
   "codemirror_mode": {
    "name": "ipython",
    "version": 3
   },
   "file_extension": ".py",
   "mimetype": "text/x-python",
   "name": "python",
   "nbconvert_exporter": "python",
   "pygments_lexer": "ipython3",
   "version": "3.13.2"
  }
 },
 "nbformat": 4,
 "nbformat_minor": 2
}
